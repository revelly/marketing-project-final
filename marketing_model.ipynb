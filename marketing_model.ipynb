{
  "nbformat": 4,
  "nbformat_minor": 0,
  "metadata": {
    "colab": {
      "provenance": [],
      "collapsed_sections": [],
      "authorship_tag": "ABX9TyMeJxTpkhC7d9qA4QUTJilQ"
    },
    "kernelspec": {
      "name": "python3",
      "display_name": "Python 3"
    },
    "language_info": {
      "name": "python"
    },
    "gpuClass": "standard"
  },
  "cells": [
    {
      "cell_type": "markdown",
      "source": [
        "# Import required packages"
      ],
      "metadata": {
        "id": "4nsgvK48wYFo"
      }
    },
    {
      "cell_type": "code",
      "source": [
        "import numpy as np\n",
        "import pandas as pd\n",
        "import matplotlib.pyplot as plt\n",
        "import seaborn as sns\n",
        "import os\n",
        "import urllib.request\n",
        "from sklearn.model_selection import train_test_split\n",
        "\n",
        "\n",
        "import warnings\n",
        "warnings.filterwarnings('ignore')\n",
        "\n",
        "%matplotlib inline"
      ],
      "metadata": {
        "id": "2EXZfQiJwZhT"
      },
      "execution_count": 2,
      "outputs": []
    },
    {
      "cell_type": "markdown",
      "source": [
        "# Load Data"
      ],
      "metadata": {
        "id": "MkK7WY11y_3q"
      }
    },
    {
      "cell_type": "code",
      "source": [
        "data_location = \"bank-full.csv\"\n",
        "data_url = 'https://github.com/diwakarsachan/marketing-project-final/raw/main/bank-full.csv'\n",
        "\n",
        "if not os.path.exists (data_location):\n",
        "    data_location = os.path.basename(data_location)\n",
        "    if not os.path.exists(data_location):\n",
        "        print(\"Downloading : \", data_url)\n",
        "        urllib.request.urlretrieve(data_url, data_location)\n",
        "print('data_location:', data_location)"
      ],
      "metadata": {
        "colab": {
          "base_uri": "https://localhost:8080/"
        },
        "id": "RBAWPCVvyS2-",
        "outputId": "85a90f58-6029-41b2-c4fa-1e891f4361b0"
      },
      "execution_count": 3,
      "outputs": [
        {
          "output_type": "stream",
          "name": "stdout",
          "text": [
            "Downloading :  https://github.com/diwakarsachan/marketing-project-final/raw/main/bank-full.csv\n",
            "data_location: bank-full.csv\n"
          ]
        }
      ]
    },
    {
      "cell_type": "code",
      "source": [
        "pd.options.display.float_format = '{:,.2f}'.format\n",
        "pd.set_option('display.max_columns', None)  \n",
        "pd.set_option('display.max_colwidth', None) \n",
        "\n",
        "marketing_outcome = pd.read_csv(data_location, sep=';')\n",
        "print('Orignal Shape of the data : ',marketing_outcome.shape)\n"
      ],
      "metadata": {
        "colab": {
          "base_uri": "https://localhost:8080/"
        },
        "id": "83n_6mY3zE-r",
        "outputId": "53cf6723-4e84-4873-b017-82fc616b56ad"
      },
      "execution_count": 4,
      "outputs": [
        {
          "output_type": "stream",
          "name": "stdout",
          "text": [
            "Orignal Shape of the data :  (45211, 17)\n"
          ]
        }
      ]
    },
    {
      "cell_type": "markdown",
      "source": [
        "# Shape Data"
      ],
      "metadata": {
        "id": "1wvieMOL9ADr"
      }
    },
    {
      "cell_type": "code",
      "source": [
        "numeric_data = marketing_outcome.select_dtypes(include=np.number) # select_dtypes selects data with numeric features\n",
        "numeric_col = numeric_data.columns"
      ],
      "metadata": {
        "id": "g1qS5mSs8EtB"
      },
      "execution_count": 5,
      "outputs": []
    },
    {
      "cell_type": "code",
      "source": [
        "marketing_outcome =marketing_outcome.replace({'default': {'yes': 1, 'no': 0}, 'housing': {'yes': 1, 'no': 0}, 'loan': {'yes': 1, 'no': 0}, 'y': {'yes': 1, 'no': 0}})"
      ],
      "metadata": {
        "id": "mQ-jIejhAlXa"
      },
      "execution_count": 6,
      "outputs": []
    },
    {
      "cell_type": "code",
      "source": [
        "categorical_col = marketing_outcome.select_dtypes(include='O')\n",
        "marketing_outcome = pd.get_dummies(marketing_outcome, columns=[col for col in marketing_outcome.columns if col in categorical_col])"
      ],
      "metadata": {
        "id": "WDKAg7giBFFn"
      },
      "execution_count": 7,
      "outputs": []
    },
    {
      "cell_type": "code",
      "source": [
        "# Numeric Columns for Scaling\n",
        "df_numeric = marketing_outcome[numeric_col]"
      ],
      "metadata": {
        "id": "aZ1H6c3mCJJi"
      },
      "execution_count": 8,
      "outputs": []
    },
    {
      "cell_type": "code",
      "source": [
        "from sklearn.preprocessing import StandardScaler, MinMaxScaler\n",
        "minmax_scalar = MinMaxScaler()\n",
        "nd_numeric_transform = minmax_scalar.fit_transform(df_numeric)"
      ],
      "metadata": {
        "id": "BOAF5xDzCT6w"
      },
      "execution_count": 9,
      "outputs": []
    },
    {
      "cell_type": "code",
      "source": [
        "df_numeric_transform=pd.DataFrame(np.array(nd_numeric_transform))\n",
        "df_numeric_transform.columns = numeric_col\n",
        "df_numeric_transform.head()"
      ],
      "metadata": {
        "colab": {
          "base_uri": "https://localhost:8080/",
          "height": 206
        },
        "id": "lHDAgjnNCa7F",
        "outputId": "c2161b69-7268-42cb-d993-381628fc9c34"
      },
      "execution_count": 10,
      "outputs": [
        {
          "output_type": "execute_result",
          "data": {
            "text/plain": [
              "   age  balance  day  duration  campaign  pdays  previous\n",
              "0 0.52     0.09 0.13      0.05      0.00   0.00      0.00\n",
              "1 0.34     0.07 0.13      0.03      0.00   0.00      0.00\n",
              "2 0.19     0.07 0.13      0.02      0.00   0.00      0.00\n",
              "3 0.38     0.09 0.13      0.02      0.00   0.00      0.00\n",
              "4 0.19     0.07 0.13      0.04      0.00   0.00      0.00"
            ],
            "text/html": [
              "\n",
              "  <div id=\"df-9fc3c078-3a1f-42aa-b859-eead60af77f5\">\n",
              "    <div class=\"colab-df-container\">\n",
              "      <div>\n",
              "<style scoped>\n",
              "    .dataframe tbody tr th:only-of-type {\n",
              "        vertical-align: middle;\n",
              "    }\n",
              "\n",
              "    .dataframe tbody tr th {\n",
              "        vertical-align: top;\n",
              "    }\n",
              "\n",
              "    .dataframe thead th {\n",
              "        text-align: right;\n",
              "    }\n",
              "</style>\n",
              "<table border=\"1\" class=\"dataframe\">\n",
              "  <thead>\n",
              "    <tr style=\"text-align: right;\">\n",
              "      <th></th>\n",
              "      <th>age</th>\n",
              "      <th>balance</th>\n",
              "      <th>day</th>\n",
              "      <th>duration</th>\n",
              "      <th>campaign</th>\n",
              "      <th>pdays</th>\n",
              "      <th>previous</th>\n",
              "    </tr>\n",
              "  </thead>\n",
              "  <tbody>\n",
              "    <tr>\n",
              "      <th>0</th>\n",
              "      <td>0.52</td>\n",
              "      <td>0.09</td>\n",
              "      <td>0.13</td>\n",
              "      <td>0.05</td>\n",
              "      <td>0.00</td>\n",
              "      <td>0.00</td>\n",
              "      <td>0.00</td>\n",
              "    </tr>\n",
              "    <tr>\n",
              "      <th>1</th>\n",
              "      <td>0.34</td>\n",
              "      <td>0.07</td>\n",
              "      <td>0.13</td>\n",
              "      <td>0.03</td>\n",
              "      <td>0.00</td>\n",
              "      <td>0.00</td>\n",
              "      <td>0.00</td>\n",
              "    </tr>\n",
              "    <tr>\n",
              "      <th>2</th>\n",
              "      <td>0.19</td>\n",
              "      <td>0.07</td>\n",
              "      <td>0.13</td>\n",
              "      <td>0.02</td>\n",
              "      <td>0.00</td>\n",
              "      <td>0.00</td>\n",
              "      <td>0.00</td>\n",
              "    </tr>\n",
              "    <tr>\n",
              "      <th>3</th>\n",
              "      <td>0.38</td>\n",
              "      <td>0.09</td>\n",
              "      <td>0.13</td>\n",
              "      <td>0.02</td>\n",
              "      <td>0.00</td>\n",
              "      <td>0.00</td>\n",
              "      <td>0.00</td>\n",
              "    </tr>\n",
              "    <tr>\n",
              "      <th>4</th>\n",
              "      <td>0.19</td>\n",
              "      <td>0.07</td>\n",
              "      <td>0.13</td>\n",
              "      <td>0.04</td>\n",
              "      <td>0.00</td>\n",
              "      <td>0.00</td>\n",
              "      <td>0.00</td>\n",
              "    </tr>\n",
              "  </tbody>\n",
              "</table>\n",
              "</div>\n",
              "      <button class=\"colab-df-convert\" onclick=\"convertToInteractive('df-9fc3c078-3a1f-42aa-b859-eead60af77f5')\"\n",
              "              title=\"Convert this dataframe to an interactive table.\"\n",
              "              style=\"display:none;\">\n",
              "        \n",
              "  <svg xmlns=\"http://www.w3.org/2000/svg\" height=\"24px\"viewBox=\"0 0 24 24\"\n",
              "       width=\"24px\">\n",
              "    <path d=\"M0 0h24v24H0V0z\" fill=\"none\"/>\n",
              "    <path d=\"M18.56 5.44l.94 2.06.94-2.06 2.06-.94-2.06-.94-.94-2.06-.94 2.06-2.06.94zm-11 1L8.5 8.5l.94-2.06 2.06-.94-2.06-.94L8.5 2.5l-.94 2.06-2.06.94zm10 10l.94 2.06.94-2.06 2.06-.94-2.06-.94-.94-2.06-.94 2.06-2.06.94z\"/><path d=\"M17.41 7.96l-1.37-1.37c-.4-.4-.92-.59-1.43-.59-.52 0-1.04.2-1.43.59L10.3 9.45l-7.72 7.72c-.78.78-.78 2.05 0 2.83L4 21.41c.39.39.9.59 1.41.59.51 0 1.02-.2 1.41-.59l7.78-7.78 2.81-2.81c.8-.78.8-2.07 0-2.86zM5.41 20L4 18.59l7.72-7.72 1.47 1.35L5.41 20z\"/>\n",
              "  </svg>\n",
              "      </button>\n",
              "      \n",
              "  <style>\n",
              "    .colab-df-container {\n",
              "      display:flex;\n",
              "      flex-wrap:wrap;\n",
              "      gap: 12px;\n",
              "    }\n",
              "\n",
              "    .colab-df-convert {\n",
              "      background-color: #E8F0FE;\n",
              "      border: none;\n",
              "      border-radius: 50%;\n",
              "      cursor: pointer;\n",
              "      display: none;\n",
              "      fill: #1967D2;\n",
              "      height: 32px;\n",
              "      padding: 0 0 0 0;\n",
              "      width: 32px;\n",
              "    }\n",
              "\n",
              "    .colab-df-convert:hover {\n",
              "      background-color: #E2EBFA;\n",
              "      box-shadow: 0px 1px 2px rgba(60, 64, 67, 0.3), 0px 1px 3px 1px rgba(60, 64, 67, 0.15);\n",
              "      fill: #174EA6;\n",
              "    }\n",
              "\n",
              "    [theme=dark] .colab-df-convert {\n",
              "      background-color: #3B4455;\n",
              "      fill: #D2E3FC;\n",
              "    }\n",
              "\n",
              "    [theme=dark] .colab-df-convert:hover {\n",
              "      background-color: #434B5C;\n",
              "      box-shadow: 0px 1px 3px 1px rgba(0, 0, 0, 0.15);\n",
              "      filter: drop-shadow(0px 1px 2px rgba(0, 0, 0, 0.3));\n",
              "      fill: #FFFFFF;\n",
              "    }\n",
              "  </style>\n",
              "\n",
              "      <script>\n",
              "        const buttonEl =\n",
              "          document.querySelector('#df-9fc3c078-3a1f-42aa-b859-eead60af77f5 button.colab-df-convert');\n",
              "        buttonEl.style.display =\n",
              "          google.colab.kernel.accessAllowed ? 'block' : 'none';\n",
              "\n",
              "        async function convertToInteractive(key) {\n",
              "          const element = document.querySelector('#df-9fc3c078-3a1f-42aa-b859-eead60af77f5');\n",
              "          const dataTable =\n",
              "            await google.colab.kernel.invokeFunction('convertToInteractive',\n",
              "                                                     [key], {});\n",
              "          if (!dataTable) return;\n",
              "\n",
              "          const docLinkHtml = 'Like what you see? Visit the ' +\n",
              "            '<a target=\"_blank\" href=https://colab.research.google.com/notebooks/data_table.ipynb>data table notebook</a>'\n",
              "            + ' to learn more about interactive tables.';\n",
              "          element.innerHTML = '';\n",
              "          dataTable['output_type'] = 'display_data';\n",
              "          await google.colab.output.renderOutput(dataTable, element);\n",
              "          const docLink = document.createElement('div');\n",
              "          docLink.innerHTML = docLinkHtml;\n",
              "          element.appendChild(docLink);\n",
              "        }\n",
              "      </script>\n",
              "    </div>\n",
              "  </div>\n",
              "  "
            ]
          },
          "metadata": {},
          "execution_count": 10
        }
      ]
    },
    {
      "cell_type": "code",
      "source": [
        "non_numeric_columns = [i for i in marketing_outcome.columns if i not in numeric_col]\n",
        "marketing_outcome_final = pd.concat([df_numeric_transform, marketing_outcome[non_numeric_columns]], axis=1) \n",
        "marketing_outcome_final.head()"
      ],
      "metadata": {
        "colab": {
          "base_uri": "https://localhost:8080/",
          "height": 288
        },
        "id": "IF-uAOfGC07u",
        "outputId": "a411997d-f5c2-4abb-fa8f-22f5034195b9"
      },
      "execution_count": 11,
      "outputs": [
        {
          "output_type": "execute_result",
          "data": {
            "text/plain": [
              "   age  balance  day  duration  campaign  pdays  previous  default  housing  \\\n",
              "0 0.52     0.09 0.13      0.05      0.00   0.00      0.00        0        1   \n",
              "1 0.34     0.07 0.13      0.03      0.00   0.00      0.00        0        1   \n",
              "2 0.19     0.07 0.13      0.02      0.00   0.00      0.00        0        1   \n",
              "3 0.38     0.09 0.13      0.02      0.00   0.00      0.00        0        1   \n",
              "4 0.19     0.07 0.13      0.04      0.00   0.00      0.00        0        0   \n",
              "\n",
              "   loan  y  job_admin.  job_blue-collar  job_entrepreneur  job_housemaid  \\\n",
              "0     0  0           0                0                 0              0   \n",
              "1     0  0           0                0                 0              0   \n",
              "2     1  0           0                0                 1              0   \n",
              "3     0  0           0                1                 0              0   \n",
              "4     0  0           0                0                 0              0   \n",
              "\n",
              "   job_management  job_retired  job_self-employed  job_services  job_student  \\\n",
              "0               1            0                  0             0            0   \n",
              "1               0            0                  0             0            0   \n",
              "2               0            0                  0             0            0   \n",
              "3               0            0                  0             0            0   \n",
              "4               0            0                  0             0            0   \n",
              "\n",
              "   job_technician  job_unemployed  job_unknown  marital_divorced  \\\n",
              "0               0               0            0                 0   \n",
              "1               1               0            0                 0   \n",
              "2               0               0            0                 0   \n",
              "3               0               0            0                 0   \n",
              "4               0               0            1                 0   \n",
              "\n",
              "   marital_married  marital_single  education_primary  education_secondary  \\\n",
              "0                1               0                  0                    0   \n",
              "1                0               1                  0                    1   \n",
              "2                1               0                  0                    1   \n",
              "3                1               0                  0                    0   \n",
              "4                0               1                  0                    0   \n",
              "\n",
              "   education_tertiary  education_unknown  contact_cellular  contact_telephone  \\\n",
              "0                   1                  0                 0                  0   \n",
              "1                   0                  0                 0                  0   \n",
              "2                   0                  0                 0                  0   \n",
              "3                   0                  1                 0                  0   \n",
              "4                   0                  1                 0                  0   \n",
              "\n",
              "   contact_unknown  month_apr  month_aug  month_dec  month_feb  month_jan  \\\n",
              "0                1          0          0          0          0          0   \n",
              "1                1          0          0          0          0          0   \n",
              "2                1          0          0          0          0          0   \n",
              "3                1          0          0          0          0          0   \n",
              "4                1          0          0          0          0          0   \n",
              "\n",
              "   month_jul  month_jun  month_mar  month_may  month_nov  month_oct  \\\n",
              "0          0          0          0          1          0          0   \n",
              "1          0          0          0          1          0          0   \n",
              "2          0          0          0          1          0          0   \n",
              "3          0          0          0          1          0          0   \n",
              "4          0          0          0          1          0          0   \n",
              "\n",
              "   month_sep  poutcome_failure  poutcome_other  poutcome_success  \\\n",
              "0          0                 0               0                 0   \n",
              "1          0                 0               0                 0   \n",
              "2          0                 0               0                 0   \n",
              "3          0                 0               0                 0   \n",
              "4          0                 0               0                 0   \n",
              "\n",
              "   poutcome_unknown  \n",
              "0                 1  \n",
              "1                 1  \n",
              "2                 1  \n",
              "3                 1  \n",
              "4                 1  "
            ],
            "text/html": [
              "\n",
              "  <div id=\"df-42778977-e9b6-446c-8968-6a118c786bfc\">\n",
              "    <div class=\"colab-df-container\">\n",
              "      <div>\n",
              "<style scoped>\n",
              "    .dataframe tbody tr th:only-of-type {\n",
              "        vertical-align: middle;\n",
              "    }\n",
              "\n",
              "    .dataframe tbody tr th {\n",
              "        vertical-align: top;\n",
              "    }\n",
              "\n",
              "    .dataframe thead th {\n",
              "        text-align: right;\n",
              "    }\n",
              "</style>\n",
              "<table border=\"1\" class=\"dataframe\">\n",
              "  <thead>\n",
              "    <tr style=\"text-align: right;\">\n",
              "      <th></th>\n",
              "      <th>age</th>\n",
              "      <th>balance</th>\n",
              "      <th>day</th>\n",
              "      <th>duration</th>\n",
              "      <th>campaign</th>\n",
              "      <th>pdays</th>\n",
              "      <th>previous</th>\n",
              "      <th>default</th>\n",
              "      <th>housing</th>\n",
              "      <th>loan</th>\n",
              "      <th>y</th>\n",
              "      <th>job_admin.</th>\n",
              "      <th>job_blue-collar</th>\n",
              "      <th>job_entrepreneur</th>\n",
              "      <th>job_housemaid</th>\n",
              "      <th>job_management</th>\n",
              "      <th>job_retired</th>\n",
              "      <th>job_self-employed</th>\n",
              "      <th>job_services</th>\n",
              "      <th>job_student</th>\n",
              "      <th>job_technician</th>\n",
              "      <th>job_unemployed</th>\n",
              "      <th>job_unknown</th>\n",
              "      <th>marital_divorced</th>\n",
              "      <th>marital_married</th>\n",
              "      <th>marital_single</th>\n",
              "      <th>education_primary</th>\n",
              "      <th>education_secondary</th>\n",
              "      <th>education_tertiary</th>\n",
              "      <th>education_unknown</th>\n",
              "      <th>contact_cellular</th>\n",
              "      <th>contact_telephone</th>\n",
              "      <th>contact_unknown</th>\n",
              "      <th>month_apr</th>\n",
              "      <th>month_aug</th>\n",
              "      <th>month_dec</th>\n",
              "      <th>month_feb</th>\n",
              "      <th>month_jan</th>\n",
              "      <th>month_jul</th>\n",
              "      <th>month_jun</th>\n",
              "      <th>month_mar</th>\n",
              "      <th>month_may</th>\n",
              "      <th>month_nov</th>\n",
              "      <th>month_oct</th>\n",
              "      <th>month_sep</th>\n",
              "      <th>poutcome_failure</th>\n",
              "      <th>poutcome_other</th>\n",
              "      <th>poutcome_success</th>\n",
              "      <th>poutcome_unknown</th>\n",
              "    </tr>\n",
              "  </thead>\n",
              "  <tbody>\n",
              "    <tr>\n",
              "      <th>0</th>\n",
              "      <td>0.52</td>\n",
              "      <td>0.09</td>\n",
              "      <td>0.13</td>\n",
              "      <td>0.05</td>\n",
              "      <td>0.00</td>\n",
              "      <td>0.00</td>\n",
              "      <td>0.00</td>\n",
              "      <td>0</td>\n",
              "      <td>1</td>\n",
              "      <td>0</td>\n",
              "      <td>0</td>\n",
              "      <td>0</td>\n",
              "      <td>0</td>\n",
              "      <td>0</td>\n",
              "      <td>0</td>\n",
              "      <td>1</td>\n",
              "      <td>0</td>\n",
              "      <td>0</td>\n",
              "      <td>0</td>\n",
              "      <td>0</td>\n",
              "      <td>0</td>\n",
              "      <td>0</td>\n",
              "      <td>0</td>\n",
              "      <td>0</td>\n",
              "      <td>1</td>\n",
              "      <td>0</td>\n",
              "      <td>0</td>\n",
              "      <td>0</td>\n",
              "      <td>1</td>\n",
              "      <td>0</td>\n",
              "      <td>0</td>\n",
              "      <td>0</td>\n",
              "      <td>1</td>\n",
              "      <td>0</td>\n",
              "      <td>0</td>\n",
              "      <td>0</td>\n",
              "      <td>0</td>\n",
              "      <td>0</td>\n",
              "      <td>0</td>\n",
              "      <td>0</td>\n",
              "      <td>0</td>\n",
              "      <td>1</td>\n",
              "      <td>0</td>\n",
              "      <td>0</td>\n",
              "      <td>0</td>\n",
              "      <td>0</td>\n",
              "      <td>0</td>\n",
              "      <td>0</td>\n",
              "      <td>1</td>\n",
              "    </tr>\n",
              "    <tr>\n",
              "      <th>1</th>\n",
              "      <td>0.34</td>\n",
              "      <td>0.07</td>\n",
              "      <td>0.13</td>\n",
              "      <td>0.03</td>\n",
              "      <td>0.00</td>\n",
              "      <td>0.00</td>\n",
              "      <td>0.00</td>\n",
              "      <td>0</td>\n",
              "      <td>1</td>\n",
              "      <td>0</td>\n",
              "      <td>0</td>\n",
              "      <td>0</td>\n",
              "      <td>0</td>\n",
              "      <td>0</td>\n",
              "      <td>0</td>\n",
              "      <td>0</td>\n",
              "      <td>0</td>\n",
              "      <td>0</td>\n",
              "      <td>0</td>\n",
              "      <td>0</td>\n",
              "      <td>1</td>\n",
              "      <td>0</td>\n",
              "      <td>0</td>\n",
              "      <td>0</td>\n",
              "      <td>0</td>\n",
              "      <td>1</td>\n",
              "      <td>0</td>\n",
              "      <td>1</td>\n",
              "      <td>0</td>\n",
              "      <td>0</td>\n",
              "      <td>0</td>\n",
              "      <td>0</td>\n",
              "      <td>1</td>\n",
              "      <td>0</td>\n",
              "      <td>0</td>\n",
              "      <td>0</td>\n",
              "      <td>0</td>\n",
              "      <td>0</td>\n",
              "      <td>0</td>\n",
              "      <td>0</td>\n",
              "      <td>0</td>\n",
              "      <td>1</td>\n",
              "      <td>0</td>\n",
              "      <td>0</td>\n",
              "      <td>0</td>\n",
              "      <td>0</td>\n",
              "      <td>0</td>\n",
              "      <td>0</td>\n",
              "      <td>1</td>\n",
              "    </tr>\n",
              "    <tr>\n",
              "      <th>2</th>\n",
              "      <td>0.19</td>\n",
              "      <td>0.07</td>\n",
              "      <td>0.13</td>\n",
              "      <td>0.02</td>\n",
              "      <td>0.00</td>\n",
              "      <td>0.00</td>\n",
              "      <td>0.00</td>\n",
              "      <td>0</td>\n",
              "      <td>1</td>\n",
              "      <td>1</td>\n",
              "      <td>0</td>\n",
              "      <td>0</td>\n",
              "      <td>0</td>\n",
              "      <td>1</td>\n",
              "      <td>0</td>\n",
              "      <td>0</td>\n",
              "      <td>0</td>\n",
              "      <td>0</td>\n",
              "      <td>0</td>\n",
              "      <td>0</td>\n",
              "      <td>0</td>\n",
              "      <td>0</td>\n",
              "      <td>0</td>\n",
              "      <td>0</td>\n",
              "      <td>1</td>\n",
              "      <td>0</td>\n",
              "      <td>0</td>\n",
              "      <td>1</td>\n",
              "      <td>0</td>\n",
              "      <td>0</td>\n",
              "      <td>0</td>\n",
              "      <td>0</td>\n",
              "      <td>1</td>\n",
              "      <td>0</td>\n",
              "      <td>0</td>\n",
              "      <td>0</td>\n",
              "      <td>0</td>\n",
              "      <td>0</td>\n",
              "      <td>0</td>\n",
              "      <td>0</td>\n",
              "      <td>0</td>\n",
              "      <td>1</td>\n",
              "      <td>0</td>\n",
              "      <td>0</td>\n",
              "      <td>0</td>\n",
              "      <td>0</td>\n",
              "      <td>0</td>\n",
              "      <td>0</td>\n",
              "      <td>1</td>\n",
              "    </tr>\n",
              "    <tr>\n",
              "      <th>3</th>\n",
              "      <td>0.38</td>\n",
              "      <td>0.09</td>\n",
              "      <td>0.13</td>\n",
              "      <td>0.02</td>\n",
              "      <td>0.00</td>\n",
              "      <td>0.00</td>\n",
              "      <td>0.00</td>\n",
              "      <td>0</td>\n",
              "      <td>1</td>\n",
              "      <td>0</td>\n",
              "      <td>0</td>\n",
              "      <td>0</td>\n",
              "      <td>1</td>\n",
              "      <td>0</td>\n",
              "      <td>0</td>\n",
              "      <td>0</td>\n",
              "      <td>0</td>\n",
              "      <td>0</td>\n",
              "      <td>0</td>\n",
              "      <td>0</td>\n",
              "      <td>0</td>\n",
              "      <td>0</td>\n",
              "      <td>0</td>\n",
              "      <td>0</td>\n",
              "      <td>1</td>\n",
              "      <td>0</td>\n",
              "      <td>0</td>\n",
              "      <td>0</td>\n",
              "      <td>0</td>\n",
              "      <td>1</td>\n",
              "      <td>0</td>\n",
              "      <td>0</td>\n",
              "      <td>1</td>\n",
              "      <td>0</td>\n",
              "      <td>0</td>\n",
              "      <td>0</td>\n",
              "      <td>0</td>\n",
              "      <td>0</td>\n",
              "      <td>0</td>\n",
              "      <td>0</td>\n",
              "      <td>0</td>\n",
              "      <td>1</td>\n",
              "      <td>0</td>\n",
              "      <td>0</td>\n",
              "      <td>0</td>\n",
              "      <td>0</td>\n",
              "      <td>0</td>\n",
              "      <td>0</td>\n",
              "      <td>1</td>\n",
              "    </tr>\n",
              "    <tr>\n",
              "      <th>4</th>\n",
              "      <td>0.19</td>\n",
              "      <td>0.07</td>\n",
              "      <td>0.13</td>\n",
              "      <td>0.04</td>\n",
              "      <td>0.00</td>\n",
              "      <td>0.00</td>\n",
              "      <td>0.00</td>\n",
              "      <td>0</td>\n",
              "      <td>0</td>\n",
              "      <td>0</td>\n",
              "      <td>0</td>\n",
              "      <td>0</td>\n",
              "      <td>0</td>\n",
              "      <td>0</td>\n",
              "      <td>0</td>\n",
              "      <td>0</td>\n",
              "      <td>0</td>\n",
              "      <td>0</td>\n",
              "      <td>0</td>\n",
              "      <td>0</td>\n",
              "      <td>0</td>\n",
              "      <td>0</td>\n",
              "      <td>1</td>\n",
              "      <td>0</td>\n",
              "      <td>0</td>\n",
              "      <td>1</td>\n",
              "      <td>0</td>\n",
              "      <td>0</td>\n",
              "      <td>0</td>\n",
              "      <td>1</td>\n",
              "      <td>0</td>\n",
              "      <td>0</td>\n",
              "      <td>1</td>\n",
              "      <td>0</td>\n",
              "      <td>0</td>\n",
              "      <td>0</td>\n",
              "      <td>0</td>\n",
              "      <td>0</td>\n",
              "      <td>0</td>\n",
              "      <td>0</td>\n",
              "      <td>0</td>\n",
              "      <td>1</td>\n",
              "      <td>0</td>\n",
              "      <td>0</td>\n",
              "      <td>0</td>\n",
              "      <td>0</td>\n",
              "      <td>0</td>\n",
              "      <td>0</td>\n",
              "      <td>1</td>\n",
              "    </tr>\n",
              "  </tbody>\n",
              "</table>\n",
              "</div>\n",
              "      <button class=\"colab-df-convert\" onclick=\"convertToInteractive('df-42778977-e9b6-446c-8968-6a118c786bfc')\"\n",
              "              title=\"Convert this dataframe to an interactive table.\"\n",
              "              style=\"display:none;\">\n",
              "        \n",
              "  <svg xmlns=\"http://www.w3.org/2000/svg\" height=\"24px\"viewBox=\"0 0 24 24\"\n",
              "       width=\"24px\">\n",
              "    <path d=\"M0 0h24v24H0V0z\" fill=\"none\"/>\n",
              "    <path d=\"M18.56 5.44l.94 2.06.94-2.06 2.06-.94-2.06-.94-.94-2.06-.94 2.06-2.06.94zm-11 1L8.5 8.5l.94-2.06 2.06-.94-2.06-.94L8.5 2.5l-.94 2.06-2.06.94zm10 10l.94 2.06.94-2.06 2.06-.94-2.06-.94-.94-2.06-.94 2.06-2.06.94z\"/><path d=\"M17.41 7.96l-1.37-1.37c-.4-.4-.92-.59-1.43-.59-.52 0-1.04.2-1.43.59L10.3 9.45l-7.72 7.72c-.78.78-.78 2.05 0 2.83L4 21.41c.39.39.9.59 1.41.59.51 0 1.02-.2 1.41-.59l7.78-7.78 2.81-2.81c.8-.78.8-2.07 0-2.86zM5.41 20L4 18.59l7.72-7.72 1.47 1.35L5.41 20z\"/>\n",
              "  </svg>\n",
              "      </button>\n",
              "      \n",
              "  <style>\n",
              "    .colab-df-container {\n",
              "      display:flex;\n",
              "      flex-wrap:wrap;\n",
              "      gap: 12px;\n",
              "    }\n",
              "\n",
              "    .colab-df-convert {\n",
              "      background-color: #E8F0FE;\n",
              "      border: none;\n",
              "      border-radius: 50%;\n",
              "      cursor: pointer;\n",
              "      display: none;\n",
              "      fill: #1967D2;\n",
              "      height: 32px;\n",
              "      padding: 0 0 0 0;\n",
              "      width: 32px;\n",
              "    }\n",
              "\n",
              "    .colab-df-convert:hover {\n",
              "      background-color: #E2EBFA;\n",
              "      box-shadow: 0px 1px 2px rgba(60, 64, 67, 0.3), 0px 1px 3px 1px rgba(60, 64, 67, 0.15);\n",
              "      fill: #174EA6;\n",
              "    }\n",
              "\n",
              "    [theme=dark] .colab-df-convert {\n",
              "      background-color: #3B4455;\n",
              "      fill: #D2E3FC;\n",
              "    }\n",
              "\n",
              "    [theme=dark] .colab-df-convert:hover {\n",
              "      background-color: #434B5C;\n",
              "      box-shadow: 0px 1px 3px 1px rgba(0, 0, 0, 0.15);\n",
              "      filter: drop-shadow(0px 1px 2px rgba(0, 0, 0, 0.3));\n",
              "      fill: #FFFFFF;\n",
              "    }\n",
              "  </style>\n",
              "\n",
              "      <script>\n",
              "        const buttonEl =\n",
              "          document.querySelector('#df-42778977-e9b6-446c-8968-6a118c786bfc button.colab-df-convert');\n",
              "        buttonEl.style.display =\n",
              "          google.colab.kernel.accessAllowed ? 'block' : 'none';\n",
              "\n",
              "        async function convertToInteractive(key) {\n",
              "          const element = document.querySelector('#df-42778977-e9b6-446c-8968-6a118c786bfc');\n",
              "          const dataTable =\n",
              "            await google.colab.kernel.invokeFunction('convertToInteractive',\n",
              "                                                     [key], {});\n",
              "          if (!dataTable) return;\n",
              "\n",
              "          const docLinkHtml = 'Like what you see? Visit the ' +\n",
              "            '<a target=\"_blank\" href=https://colab.research.google.com/notebooks/data_table.ipynb>data table notebook</a>'\n",
              "            + ' to learn more about interactive tables.';\n",
              "          element.innerHTML = '';\n",
              "          dataTable['output_type'] = 'display_data';\n",
              "          await google.colab.output.renderOutput(dataTable, element);\n",
              "          const docLink = document.createElement('div');\n",
              "          docLink.innerHTML = docLinkHtml;\n",
              "          element.appendChild(docLink);\n",
              "        }\n",
              "      </script>\n",
              "    </div>\n",
              "  </div>\n",
              "  "
            ]
          },
          "metadata": {},
          "execution_count": 11
        }
      ]
    },
    {
      "cell_type": "markdown",
      "source": [
        "# Feature Engineering"
      ],
      "metadata": {
        "id": "_7ARUB7ODwOp"
      }
    },
    {
      "cell_type": "code",
      "source": [
        "label_col = 'y'\n",
        "\n",
        "feature_columns = marketing_outcome_final.columns\n",
        "feature_columns = feature_columns.drop (['y'])\n",
        "print (feature_columns)"
      ],
      "metadata": {
        "colab": {
          "base_uri": "https://localhost:8080/"
        },
        "id": "oRj6xHEbDheY",
        "outputId": "bb9dadb8-bc49-478c-821e-75f0cb0c4a42"
      },
      "execution_count": 12,
      "outputs": [
        {
          "output_type": "stream",
          "name": "stdout",
          "text": [
            "Index(['age', 'balance', 'day', 'duration', 'campaign', 'pdays', 'previous',\n",
            "       'default', 'housing', 'loan', 'job_admin.', 'job_blue-collar',\n",
            "       'job_entrepreneur', 'job_housemaid', 'job_management', 'job_retired',\n",
            "       'job_self-employed', 'job_services', 'job_student', 'job_technician',\n",
            "       'job_unemployed', 'job_unknown', 'marital_divorced', 'marital_married',\n",
            "       'marital_single', 'education_primary', 'education_secondary',\n",
            "       'education_tertiary', 'education_unknown', 'contact_cellular',\n",
            "       'contact_telephone', 'contact_unknown', 'month_apr', 'month_aug',\n",
            "       'month_dec', 'month_feb', 'month_jan', 'month_jul', 'month_jun',\n",
            "       'month_mar', 'month_may', 'month_nov', 'month_oct', 'month_sep',\n",
            "       'poutcome_failure', 'poutcome_other', 'poutcome_success',\n",
            "       'poutcome_unknown'],\n",
            "      dtype='object')\n"
          ]
        }
      ]
    },
    {
      "cell_type": "code",
      "source": [
        "X = marketing_outcome_final[feature_columns]\n",
        "y = marketing_outcome_final[[label_col]]\n",
        "\n",
        "print (X.shape)\n",
        "print (y.shape)"
      ],
      "metadata": {
        "colab": {
          "base_uri": "https://localhost:8080/"
        },
        "id": "WLVvQOQrEM8j",
        "outputId": "d5853f6b-232e-48a6-b114-381244bb5ac4"
      },
      "execution_count": 13,
      "outputs": [
        {
          "output_type": "stream",
          "name": "stdout",
          "text": [
            "(45211, 48)\n",
            "(45211, 1)\n"
          ]
        }
      ]
    },
    {
      "cell_type": "markdown",
      "source": [
        "# Test Train Split"
      ],
      "metadata": {
        "id": "Mm-UaVxcEW42"
      }
    },
    {
      "cell_type": "code",
      "source": [
        "X_train,X_test,y_train, y_test = train_test_split(X, y,  test_size=.2, random_state=42)\n",
        "\n",
        "print (\"x_train :\" , X_train.shape )\n",
        "print (\"x_test :\", X_test.shape)\n",
        "print (\"y_train :\", y_train.shape)\n",
        "print (\"y_test :\", y_test.shape)"
      ],
      "metadata": {
        "colab": {
          "base_uri": "https://localhost:8080/"
        },
        "id": "xOiQv6EsETyz",
        "outputId": "3ff364c1-8295-4efc-be76-0fdc30a9ddb2"
      },
      "execution_count": 14,
      "outputs": [
        {
          "output_type": "stream",
          "name": "stdout",
          "text": [
            "x_train : (36168, 48)\n",
            "x_test : (9043, 48)\n",
            "y_train : (36168, 1)\n",
            "y_test : (9043, 1)\n"
          ]
        }
      ]
    },
    {
      "cell_type": "markdown",
      "source": [
        "# Over sample to fix the imbalace"
      ],
      "metadata": {
        "id": "8D1FB097EtzQ"
      }
    },
    {
      "cell_type": "code",
      "source": [
        "from imblearn.over_sampling import SMOTE\n",
        "smote = SMOTE()\n",
        "\n",
        "# fit predictor and target variable also ensure you dont oversample on test data\n",
        "X_trainsm, y_trainsm = smote.fit_resample(X_train, y_train)\n",
        "\n",
        "print('Original dataset shape', len(y_train))\n",
        "print('Resample dataset shape', len(y_trainsm))"
      ],
      "metadata": {
        "colab": {
          "base_uri": "https://localhost:8080/"
        },
        "id": "RYsq-uP7ErHe",
        "outputId": "b58117b1-a2f7-47e6-e6fa-e4885d0def87"
      },
      "execution_count": 15,
      "outputs": [
        {
          "output_type": "stream",
          "name": "stdout",
          "text": [
            "Original dataset shape 36168\n",
            "Resample dataset shape 63940\n"
          ]
        }
      ]
    },
    {
      "cell_type": "code",
      "source": [
        "# Check for impbalnce on final train data\n",
        "y_trainsm.value_counts(normalize=True)"
      ],
      "metadata": {
        "colab": {
          "base_uri": "https://localhost:8080/"
        },
        "id": "oCeYtozmFf-m",
        "outputId": "431ac07b-c7ad-40d6-eb03-19740479a6ef"
      },
      "execution_count": 16,
      "outputs": [
        {
          "output_type": "execute_result",
          "data": {
            "text/plain": [
              "y\n",
              "0   0.50\n",
              "1   0.50\n",
              "dtype: float64"
            ]
          },
          "metadata": {},
          "execution_count": 16
        }
      ]
    },
    {
      "cell_type": "markdown",
      "source": [
        "# Algorithm"
      ],
      "metadata": {
        "id": "x_aGz8vmFv7w"
      }
    },
    {
      "cell_type": "code",
      "source": [
        "from sklearn.metrics import roc_auc_score ,mean_squared_error,accuracy_score,classification_report,roc_curve,confusion_matrix,f1_score\n",
        "\n",
        "# Function to print the performance of algo\n",
        "def algo_stats(model, X_train, y_train, X_test, y_test):\n",
        "\n",
        "  print(\"Model Analysis :\", model)\n",
        "  y_pred = model.predict (X_test)\n",
        "\n",
        "  model_f1_score = f1_score(y_test, y_pred)\n",
        "  print(\"F1 Score: \", model_f1_score)\n",
        "\n",
        "  train_accuracy = model.score(X_train,y_train)\n",
        "  print (\"Train accuracy: \", train_accuracy)\n",
        "\n",
        "  test_accuracy = model.score(X_test, y_test)\n",
        "  print (\"Test accuracy: \", test_accuracy)\n",
        "\n",
        "  auc = roc_auc_score(y_test, y_pred)\n",
        "  print('ROC_AUC_SCORE is', auc)\n",
        "\n",
        "  print('Classification Report:')\n",
        "  print(classification_report(y_test,y_pred))\n",
        "\n",
        "  cm_labels = np.unique(y)\n",
        "  cm_array = confusion_matrix(y_test, y_pred)\n",
        "  cm_df = pd.DataFrame(cm_array, index=cm_labels, columns=cm_labels)  \n",
        "  plt.figure(figsize = (8,5))\n",
        "\n",
        "  # colormaps : cmap=\"YlGnBu\" , cmap=\"Greens\", cmap=\"Blues\",  cmap=\"Reds\"\n",
        "  sns.heatmap(cm_df, annot=True, cmap=\"Greens\", fmt='d').plot()\n",
        "  plt.show()\n",
        "\n",
        "  false_positive_rate, true_positive_rate, thresholds = roc_curve(y_test, y_pred)\n",
        "  print('false_positive_rate: ', false_positive_rate)\n",
        "  print('true_positive_rate: ', true_positive_rate)\n",
        "  print('thresholds: ', thresholds)\n",
        "\n",
        "  plt.plot(false_positive_rate, true_positive_rate)\n",
        "  plt.xlabel('FPR')\n",
        "  plt.ylabel('TPR')\n",
        "  plt.title('ROC curve')\n",
        "  plt.show()\n",
        "  print('===='*20)"
      ],
      "metadata": {
        "id": "82xfRTuIFq4_"
      },
      "execution_count": 17,
      "outputs": []
    },
    {
      "cell_type": "markdown",
      "source": [
        "# Basic Random Forest "
      ],
      "metadata": {
        "id": "qrpfChYROBLl"
      }
    },
    {
      "cell_type": "code",
      "source": [
        "%%time\n",
        "from sklearn.ensemble import RandomForestClassifier\n",
        "\n",
        "algo = RandomForestClassifier()\n",
        "\n",
        "# Fit\n",
        "model = algo.fit(X_trainsm, np.ravel(y_trainsm))\n",
        "print (model)"
      ],
      "metadata": {
        "colab": {
          "base_uri": "https://localhost:8080/"
        },
        "id": "-8deH-HjOEdK",
        "outputId": "5da73e41-b1cb-4cd7-bc90-743768fae0b4"
      },
      "execution_count": 18,
      "outputs": [
        {
          "output_type": "stream",
          "name": "stdout",
          "text": [
            "RandomForestClassifier()\n",
            "CPU times: user 12.3 s, sys: 61.7 ms, total: 12.4 s\n",
            "Wall time: 19 s\n"
          ]
        }
      ]
    },
    {
      "cell_type": "code",
      "source": [
        "algo_stats(model, X_trainsm, y_trainsm, X_test, y_test)"
      ],
      "metadata": {
        "colab": {
          "base_uri": "https://localhost:8080/",
          "height": 928
        },
        "id": "v5Xvz3vPOInJ",
        "outputId": "b2c3b84e-667f-4b17-c012-5711921ec7de"
      },
      "execution_count": 19,
      "outputs": [
        {
          "output_type": "stream",
          "name": "stdout",
          "text": [
            "Model Analysis : RandomForestClassifier()\n",
            "F1 Score:  0.5900445163901253\n",
            "Train accuracy:  1.0\n",
            "Test accuracy:  0.8879796527700984\n",
            "ROC_AUC_SCORE is 0.7931640599785698\n",
            "Classification Report:\n",
            "              precision    recall  f1-score   support\n",
            "\n",
            "           0       0.95      0.92      0.94      7952\n",
            "           1       0.53      0.67      0.59      1091\n",
            "\n",
            "    accuracy                           0.89      9043\n",
            "   macro avg       0.74      0.79      0.76      9043\n",
            "weighted avg       0.90      0.89      0.89      9043\n",
            "\n"
          ]
        },
        {
          "output_type": "display_data",
          "data": {
            "text/plain": [
              "<Figure size 576x360 with 2 Axes>"
            ],
            "image/png": "[encoded data removed]"
          },
          "metadata": {
            "needs_background": "light"
          }
        },
        {
          "output_type": "stream",
          "name": "stdout",
          "text": [
            "false_positive_rate:  [0.        0.0818662 1.       ]\n",
            "true_positive_rate:  [0.         0.66819432 1.        ]\n",
            "thresholds:  [2 1 0]\n"
          ]
        },
        {
          "output_type": "display_data",
          "data": {
            "text/plain": [
              "<Figure size 432x288 with 1 Axes>"
            ],
            "image/png": "[encoded data removed]"
          },
          "metadata": {
            "needs_background": "light"
          }
        },
        {
          "output_type": "stream",
          "name": "stdout",
          "text": [
            "================================================================================\n"
          ]
        }
      ]
    },
    {
      "cell_type": "markdown",
      "source": [
        "# Hyper Paramater Tuning"
      ],
      "metadata": {
        "id": "maYCfNDuQ4DD"
      }
    },
    {
      "cell_type": "code",
      "source": [
        "%%time \n",
        "\n",
        "## Bulid a param grid for RandomForest\n",
        "from sklearn.ensemble import RandomForestClassifier\n",
        "\n",
        "from sklearn.model_selection import GridSearchCV\n",
        "from sklearn.model_selection import ParameterGrid\n",
        "\n",
        "algo = RandomForestClassifier()\n",
        "algo.get_params()\n",
        "\n",
        "# build a param-grid\n",
        "param_grid =  {'n_estimators' : (50, 100, 150), \n",
        "               'max_depth' : (5,10,15,20,25),\n",
        "               'max_features': ['auto', 'sqrt', 'log2'],\n",
        "               'criterion' :['gini', 'entropy']\n",
        "               }\n",
        "\n",
        "grid_search = GridSearchCV(estimator=algo, \n",
        "                             param_grid=param_grid, \n",
        "                             cv = 5, \n",
        "                             scoring='roc_auc', # use roc_auc instead of \"accuracy\"\n",
        "                             return_train_score=True,\n",
        "                             n_jobs = -1)\n",
        "\n",
        "grid_search_results = grid_search.fit (X_trainsm,np.ravel(y_trainsm))\n",
        "\n",
        "best_model = grid_search_results.best_estimator_\n",
        "print (\"Best model : \", best_model)\n",
        "print (\"Best hyper params : \", grid_search_results.best_params_)\n",
        "print (\"Best score : \", grid_search_results.best_score_)"
      ],
      "metadata": {
        "colab": {
          "base_uri": "https://localhost:8080/"
        },
        "id": "1VKS7_y6Pn0T",
        "outputId": "ec7352f1-7009-4708-ae1e-2d6df8f57cef"
      },
      "execution_count": 20,
      "outputs": [
        {
          "output_type": "stream",
          "name": "stdout",
          "text": [
            "Best model :  RandomForestClassifier(max_depth=25, max_features='log2', n_estimators=150)\n",
            "Best hyper params :  {'criterion': 'gini', 'max_depth': 25, 'max_features': 'log2', 'n_estimators': 150}\n",
            "Best score :  0.9900200170064816\n",
            "CPU times: user 30.4 s, sys: 2.37 s, total: 32.8 s\n",
            "Wall time: 43min 13s\n"
          ]
        }
      ]
    },
    {
      "cell_type": "code",
      "source": [
        "algo_stats(best_model, X_trainsm, y_trainsm, X_test, y_test)"
      ],
      "metadata": {
        "colab": {
          "base_uri": "https://localhost:8080/",
          "height": 928
        },
        "id": "6zlJvUoMd8Og",
        "outputId": "c4f25e6e-25f5-434a-9cce-7f8daba4ddff"
      },
      "execution_count": 21,
      "outputs": [
        {
          "output_type": "stream",
          "name": "stdout",
          "text": [
            "Model Analysis : RandomForestClassifier(max_depth=25, max_features='log2', n_estimators=150)\n",
            "F1 Score:  0.5880465302847974\n",
            "Train accuracy:  0.9968251485767907\n",
            "Test accuracy:  0.886431493973239\n",
            "ROC_AUC_SCORE is 0.793865449802389\n",
            "Classification Report:\n",
            "              precision    recall  f1-score   support\n",
            "\n",
            "           0       0.95      0.92      0.93      7952\n",
            "           1       0.52      0.67      0.59      1091\n",
            "\n",
            "    accuracy                           0.89      9043\n",
            "   macro avg       0.74      0.79      0.76      9043\n",
            "weighted avg       0.90      0.89      0.89      9043\n",
            "\n"
          ]
        },
        {
          "output_type": "display_data",
          "data": {
            "text/plain": [
              "<Figure size 576x360 with 2 Axes>"
            ],
            "image/png": "[encoded data removed]"
          },
          "metadata": {
            "needs_background": "light"
          }
        },
        {
          "output_type": "stream",
          "name": "stdout",
          "text": [
            "false_positive_rate:  [0.         0.08412978 1.        ]\n",
            "true_positive_rate:  [0.         0.67186068 1.        ]\n",
            "thresholds:  [2 1 0]\n"
          ]
        },
        {
          "output_type": "display_data",
          "data": {
            "text/plain": [
              "<Figure size 432x288 with 1 Axes>"
            ],
            "image/png": "[encoded data removed]"
          },
          "metadata": {
            "needs_background": "light"
          }
        },
        {
          "output_type": "stream",
          "name": "stdout",
          "text": [
            "================================================================================\n"
          ]
        }
      ]
    },
    {
      "cell_type": "markdown",
      "source": [
        "# Multple Algo Performance"
      ],
      "metadata": {
        "id": "BG-50mvXVMNh"
      }
    },
    {
      "cell_type": "code",
      "source": [
        "from sklearn.linear_model import LogisticRegression\n",
        "from sklearn.tree import DecisionTreeClassifier\n",
        "from sklearn.neighbors import KNeighborsClassifier\n",
        "from sklearn.svm import SVC\n",
        "from sklearn.naive_bayes import GaussianNB\n",
        "from sklearn.ensemble import RandomForestClassifier\n",
        "from sklearn.ensemble import GradientBoostingClassifier\n",
        "import numpy as np\n",
        "from sklearn.model_selection import cross_val_score\n",
        "from sklearn.model_selection import cross_validate\n",
        "from pprint import pprint\n",
        "\n",
        "## Choose models, we want to compare\n",
        "## TODO: Here are we are choosing 'default' models\n",
        "## What if we choose the 'best of' for each model using hyper tuning\n",
        "\n",
        "models = []\n",
        "models.append(('LR', LogisticRegression(max_iter=500)))\n",
        "models.append(('KNN', KNeighborsClassifier()))\n",
        "models.append(('CART', DecisionTreeClassifier()))\n",
        "models.append(('RF', RandomForestClassifier()))\n",
        "models.append(('GB', GradientBoostingClassifier()))\n",
        "models.append(('SVM', SVC()))\n",
        "models.append(('NB', GaussianNB()))\n",
        "\n",
        "accuracy_results = []\n",
        "f1_results = []\n",
        "roc_auc_results = []\n",
        "names = []\n",
        "\n",
        "## for classification tasks\n",
        "scoring_metrics = ['accuracy', 'precision', 'recall', 'f1', 'roc_auc']\n",
        "## for regression tasks\n",
        "#scoring_metrics = ['r2', 'rmse']\n",
        "y2 = np.ravel(y_trainsm)\n",
        "x2 = X_trainsm\n",
        "for name, model in models:\n",
        "    print ('\\n========= ', name , ' =========')\n",
        "    names.append(name)\n",
        "    \n",
        "    ## cv can be int or kfold\n",
        "    cv_results = cross_validate(model, x2, y2, cv=5, scoring=scoring_metrics, n_jobs=-1)\n",
        "    pprint (cv_results)\n",
        "\n",
        "    # test accuracy\n",
        "    this_result = cv_results['test_accuracy']\n",
        "    accuracy_results.append(this_result)\n",
        "    print(\"\\n{}: accuracy : avg={:,.2f}, median={:,.2f},  std={:,.2f},  cv_results={}\".format (\n",
        "        name, np.mean(this_result), np.median(this_result), np.std(this_result), this_result))\n",
        "    \n",
        "\n",
        "    # f1 accuracy\n",
        "    this_result = cv_results['test_f1']\n",
        "    f1_results.append(this_result)\n",
        "    print(\"\\n{}: F1 : avg={:,.2f}, median={:,.2f},  std={:,.2f},  cv_results={}\".format (\n",
        "        name, np.mean(this_result), np.median(this_result), np.std(this_result), this_result))\n",
        "\n",
        "    # roc_auc accuracy\n",
        "    this_result = cv_results['test_roc_auc']\n",
        "    roc_auc_results.append(this_result)\n",
        "    print(\"\\n{}: ROC AUC : avg={:,.2f}, median={:,.2f},  std={:,.2f},  cv_results={}\".format (\n",
        "        name, np.mean(this_result), np.median(this_result), np.std(this_result), this_result))\n"
      ],
      "metadata": {
        "colab": {
          "base_uri": "https://localhost:8080/"
        },
        "id": "uMtCl5lwTik0",
        "outputId": "017e145a-798f-464a-fdc4-0ba25a23bb2c"
      },
      "execution_count": 22,
      "outputs": [
        {
          "output_type": "stream",
          "name": "stdout",
          "text": [
            "\n",
            "=========  LR  =========\n",
            "{'fit_time': array([3.20769262, 2.61799264, 3.03537321, 2.9266367 , 1.96866584]),\n",
            " 'score_time': array([0.04545832, 0.04628277, 0.04231572, 0.0407424 , 0.02629161]),\n",
            " 'test_accuracy': array([0.81443541, 0.90326869, 0.90233031, 0.90545824, 0.90944636]),\n",
            " 'test_f1': array([0.79338267, 0.90350261, 0.90315577, 0.90555425, 0.90993934]),\n",
            " 'test_precision': array([0.89491259, 0.90132296, 0.89558665, 0.90463555, 0.90501238]),\n",
            " 'test_recall': array([0.71254301, 0.90569284, 0.91085393, 0.90647482, 0.91492024]),\n",
            " 'test_roc_auc': array([0.90696531, 0.96643646, 0.96531441, 0.96856587, 0.9681431 ])}\n",
            "\n",
            "LR: accuracy : avg=0.89, median=0.90,  std=0.04,  cv_results=[0.81443541 0.90326869 0.90233031 0.90545824 0.90944636]\n",
            "\n",
            "LR: F1 : avg=0.88, median=0.90,  std=0.04,  cv_results=[0.79338267 0.90350261 0.90315577 0.90555425 0.90993934]\n",
            "\n",
            "LR: ROC AUC : avg=0.96, median=0.97,  std=0.02,  cv_results=[0.90696531 0.96643646 0.96531441 0.96856587 0.9681431 ]\n",
            "\n",
            "=========  KNN  =========\n",
            "{'fit_time': array([0.04412818, 0.05171561, 0.0818243 , 0.07984948, 0.02852297]),\n",
            " 'score_time': array([43.4765923 , 43.06131363, 40.1027689 , 40.09892225, 26.24759579]),\n",
            " 'test_accuracy': array([0.86080701, 0.89583985, 0.89568345, 0.8981076 , 0.89888958]),\n",
            " 'test_f1': array([0.86360153, 0.90223136, 0.90238548, 0.90402887, 0.90482149]),\n",
            " 'test_precision': array([0.84660457, 0.85006916, 0.84790979, 0.85437839, 0.85467946]),\n",
            " 'test_recall': array([0.88129496, 0.96121364, 0.96434157, 0.95980607, 0.96121364]),\n",
            " 'test_roc_auc': array([0.91860455, 0.9562488 , 0.95492653, 0.95413498, 0.95288653])}\n",
            "\n",
            "KNN: accuracy : avg=0.89, median=0.90,  std=0.01,  cv_results=[0.86080701 0.89583985 0.89568345 0.8981076  0.89888958]\n",
            "\n",
            "KNN: F1 : avg=0.90, median=0.90,  std=0.02,  cv_results=[0.86360153 0.90223136 0.90238548 0.90402887 0.90482149]\n",
            "\n",
            "KNN: ROC AUC : avg=0.95, median=0.95,  std=0.01,  cv_results=[0.91860455 0.9562488  0.95492653 0.95413498 0.95288653]\n",
            "\n",
            "=========  CART  =========\n",
            "{'fit_time': array([1.05031991, 1.02006364, 1.0563736 , 1.01345348, 0.70473242]),\n",
            " 'score_time': array([0.05234957, 0.04737258, 0.05012774, 0.04926991, 0.03181171]),\n",
            " 'test_accuracy': array([0.82765092, 0.91476384, 0.91304348, 0.92062871, 0.91492024]),\n",
            " 'test_f1': array([0.81113967, 0.91739921, 0.91532135, 0.92258409, 0.91704788]),\n",
            " 'test_precision': array([0.89708112, 0.88988533, 0.89195607, 0.90040197, 0.8946742 ]),\n",
            " 'test_recall': array([0.74022521, 0.94666875, 0.9399437 , 0.94588677, 0.94056928]),\n",
            " 'test_roc_auc': array([0.82765092, 0.91476384, 0.91304348, 0.92062871, 0.91492024])}\n",
            "\n",
            "CART: accuracy : avg=0.90, median=0.91,  std=0.04,  cv_results=[0.82765092 0.91476384 0.91304348 0.92062871 0.91492024]\n",
            "\n",
            "CART: F1 : avg=0.90, median=0.92,  std=0.04,  cv_results=[0.81113967 0.91739921 0.91532135 0.92258409 0.91704788]\n",
            "\n",
            "CART: ROC AUC : avg=0.90, median=0.91,  std=0.04,  cv_results=[0.82765092 0.91476384 0.91304348 0.92062871 0.91492024]\n",
            "\n",
            "=========  RF  =========\n",
            "{'fit_time': array([12.91365337, 12.8112545 , 11.99767852, 12.30849099,  8.28375483]),\n",
            " 'score_time': array([1.08299446, 1.08010507, 1.09476137, 1.0795002 , 0.80026746]),\n",
            " 'test_accuracy': array([0.90788239, 0.95198624, 0.94878011, 0.95448858, 0.9537848 ]),\n",
            " 'test_f1': array([0.9054878 , 0.95368834, 0.95074077, 0.95601572, 0.95541305]),\n",
            " 'test_precision': array([0.92965404, 0.9210373 , 0.91568883, 0.92497806, 0.92289754]),\n",
            " 'test_recall': array([0.88254614, 0.98873944, 0.98858305, 0.98920863, 0.99030341]),\n",
            " 'test_roc_auc': array([0.97488522, 0.99382317, 0.99331379, 0.99448018, 0.99421657])}\n",
            "\n",
            "RF: accuracy : avg=0.94, median=0.95,  std=0.02,  cv_results=[0.90788239 0.95198624 0.94878011 0.95448858 0.9537848 ]\n",
            "\n",
            "RF: F1 : avg=0.94, median=0.95,  std=0.02,  cv_results=[0.9054878  0.95368834 0.95074077 0.95601572 0.95541305]\n",
            "\n",
            "RF: ROC AUC : avg=0.99, median=0.99,  std=0.01,  cv_results=[0.97488522 0.99382317 0.99331379 0.99448018 0.99421657]\n",
            "\n",
            "=========  GB  =========\n",
            "{'fit_time': array([20.99665999, 19.84512043, 19.97238827, 20.02581048, 13.68457365]),\n",
            " 'score_time': array([0.11575961, 0.11161876, 0.11599207, 0.10766625, 0.07686019]),\n",
            " 'test_accuracy': array([0.84798248, 0.91984673, 0.91570222, 0.92500782, 0.91953394]),\n",
            " 'test_f1': array([0.83694011, 0.92249527, 0.91872738, 0.92759532, 0.92226335]),\n",
            " 'test_precision': array([0.90249638, 0.89298785, 0.88689956, 0.89665742, 0.89200643]),\n",
            " 'test_recall': array([0.78026275, 0.95401939, 0.95292462, 0.96074445, 0.95464498]),\n",
            " 'test_roc_auc': array([0.93972104, 0.97856769, 0.97669975, 0.98113164, 0.97971886])}\n",
            "\n",
            "GB: accuracy : avg=0.91, median=0.92,  std=0.03,  cv_results=[0.84798248 0.91984673 0.91570222 0.92500782 0.91953394]\n",
            "\n",
            "GB: F1 : avg=0.91, median=0.92,  std=0.03,  cv_results=[0.83694011 0.92249527 0.91872738 0.92759532 0.92226335]\n",
            "\n",
            "GB: ROC AUC : avg=0.97, median=0.98,  std=0.02,  cv_results=[0.93972104 0.97856769 0.97669975 0.98113164 0.97971886]\n",
            "\n",
            "=========  SVM  =========\n",
            "{'fit_time': array([132.15541148, 163.02194309, 159.545748  , 158.32803917,\n",
            "       118.73025346]),\n",
            " 'score_time': array([56.40195584, 66.40387249, 64.64250016, 68.01968789, 38.20156455]),\n",
            " 'test_accuracy': array([0.82913669, 0.92438223, 0.92406944, 0.92923053, 0.92946512]),\n",
            " 'test_f1': array([0.81116585, 0.92604207, 0.92607537, 0.9305289 , 0.93096587]),\n",
            " 'test_precision': array([0.90650956, 0.90615177, 0.90224002, 0.91376451, 0.91157074]),\n",
            " 'test_recall': array([0.73396935, 0.94682515, 0.95120425, 0.94791992, 0.95120425]),\n",
            " 'test_roc_auc': array([0.92422444, 0.97599153, 0.97520084, 0.97739805, 0.9767467 ])}\n",
            "\n",
            "SVM: accuracy : avg=0.91, median=0.92,  std=0.04,  cv_results=[0.82913669 0.92438223 0.92406944 0.92923053 0.92946512]\n",
            "\n",
            "SVM: F1 : avg=0.90, median=0.93,  std=0.05,  cv_results=[0.81116585 0.92604207 0.92607537 0.9305289  0.93096587]\n",
            "\n",
            "SVM: ROC AUC : avg=0.97, median=0.98,  std=0.02,  cv_results=[0.92422444 0.97599153 0.97520084 0.97739805 0.9767467 ]\n",
            "\n",
            "=========  NB  =========\n",
            "{'fit_time': array([0.19687915, 0.09742689, 0.09570241, 0.12488341, 0.09572983]),\n",
            " 'score_time': array([0.09440422, 0.06837869, 0.06814051, 0.06995082, 0.05909228]),\n",
            " 'test_accuracy': array([0.72482014, 0.75891461, 0.75172036, 0.75054739, 0.76274632]),\n",
            " 'test_f1': array([0.72466943, 0.75163135, 0.74306061, 0.74073472, 0.75504602]),\n",
            " 'test_precision': array([0.72506654, 0.77504569, 0.76991447, 0.77106599, 0.78037383]),\n",
            " 'test_recall': array([0.72427276, 0.72959024, 0.71801689, 0.71269941, 0.7313106 ]),\n",
            " 'test_roc_auc': array([0.79000482, 0.82792436, 0.8198611 , 0.82460584, 0.83301975])}\n",
            "\n",
            "NB: accuracy : avg=0.75, median=0.75,  std=0.01,  cv_results=[0.72482014 0.75891461 0.75172036 0.75054739 0.76274632]\n",
            "\n",
            "NB: F1 : avg=0.74, median=0.74,  std=0.01,  cv_results=[0.72466943 0.75163135 0.74306061 0.74073472 0.75504602]\n",
            "\n",
            "NB: ROC AUC : avg=0.82, median=0.82,  std=0.02,  cv_results=[0.79000482 0.82792436 0.8198611  0.82460584 0.83301975]\n"
          ]
        }
      ]
    },
    {
      "cell_type": "markdown",
      "source": [
        "##### Observation: cross validation technique does not account for test set for matics generation and uses data for testing from input which is over sampled"
      ],
      "metadata": {
        "id": "MOK5Cb23kPCS"
      }
    },
    {
      "cell_type": "code",
      "source": [
        "# Visualize F1 Results \n",
        "import matplotlib.pyplot as plt\n",
        "import seaborn as sns\n",
        "\n",
        "plt.figure(figsize = (12,8))\n",
        "\n",
        "# boxplot algorithm comparison\n",
        "ax = sns.boxplot(data=f1_results) # \n",
        "ax.set_title('Algorithm Comparison')\n",
        "ax.set_xticklabels(names)\n",
        "ax.set_ylabel('F1 Score')\n",
        "plt.show()"
      ],
      "metadata": {
        "colab": {
          "base_uri": "https://localhost:8080/",
          "height": 499
        },
        "id": "v3kInIHRWhb6",
        "outputId": "86349a0b-154a-479e-b92a-99ddf3cd1c97"
      },
      "execution_count": 28,
      "outputs": [
        {
          "output_type": "display_data",
          "data": {
            "text/plain": [
              "<Figure size 864x576 with 1 Axes>"
            ],
            "image/png": "[encoded data removed]"
          },
          "metadata": {
            "needs_background": "light"
          }
        }
      ]
    },
    {
      "cell_type": "code",
      "source": [
        "# Visualize ROC_AUC Results \n",
        "import matplotlib.pyplot as plt\n",
        "import seaborn as sns\n",
        "\n",
        "plt.figure(figsize = (12,8))\n",
        "\n",
        "# boxplot algorithm comparison\n",
        "ax = sns.boxplot(data=roc_auc_results) \n",
        "ax.set_title('Algorithm Comparison')\n",
        "ax.set_xticklabels(names)\n",
        "ax.set_ylabel('ROC AUC')\n",
        "plt.show()"
      ],
      "metadata": {
        "colab": {
          "base_uri": "https://localhost:8080/",
          "height": 499
        },
        "id": "2dlg5PbhEMoh",
        "outputId": "26655544-e2e3-4d45-d8be-c347d96700be"
      },
      "execution_count": 29,
      "outputs": [
        {
          "output_type": "display_data",
          "data": {
            "text/plain": [
              "<Figure size 864x576 with 1 Axes>"
            ],
            "image/png": "[encoded data removed]"
          },
          "metadata": {
            "needs_background": "light"
          }
        }
      ]
    },
    {
      "cell_type": "markdown",
      "source": [
        "#### Top3 from cross validations are RF, GB and SVM - Find Best Hyperparameter"
      ],
      "metadata": {
        "id": "Oj91sr1cXBxh"
      }
    },
    {
      "cell_type": "code",
      "source": [
        "%%time \n",
        "# GB Hyper Parameter\n",
        "algo = GradientBoostingClassifier()\n",
        "algo.get_params()\n",
        "\n",
        "# build a param-grid\n",
        "param_grid = {\n",
        "    \"learning_rate\": [0.01, 0.025, 0.05, 0.075, 0.1, 0.15, 0.2],\n",
        "    \"min_samples_split\": np.linspace(0.1, 0.5, 12),\n",
        "    \"min_samples_leaf\": np.linspace(0.1, 0.5, 12),\n",
        "    \"max_depth\":[3,5,8],\n",
        "    \"max_features\":[\"log2\",\"sqrt\"],\n",
        "    \"criterion\": [\"friedman_mse\",  \"mae\"],\n",
        "    \"subsample\":[0.5, 0.618, 0.8, 0.85, 0.9, 0.95, 1.0],\n",
        "    \"n_estimators\":[10]\n",
        "    }\n",
        "\n",
        "grid_search = GridSearchCV(estimator=algo, \n",
        "                             param_grid=param_grid, \n",
        "                             cv = 5, \n",
        "                             scoring='roc_auc', # use roc_auc instead of \"accuracy\"\n",
        "                             return_train_score=True,\n",
        "                             n_jobs = -1)\n",
        "\n",
        "grid_search_results = grid_search.fit (X_trainsm,np.ravel(y_trainsm))\n",
        "\n",
        "best_model = grid_search_results.best_estimator_\n",
        "print (\"Best model : \", best_model)\n",
        "print (\"Best hyper params : \", grid_search_results.best_params_)\n",
        "print (\"Best score : \", grid_search_results.best_score_)"
      ],
      "metadata": {
        "id": "hKpR3mfNXRFV"
      },
      "execution_count": null,
      "outputs": []
    },
    {
      "cell_type": "code",
      "source": [
        "%%time \n",
        "# SVM Hyper Parameter\n",
        "\n",
        "algo = SVC()\n",
        "algo.get_params()\n",
        "\n",
        "param_grid = {'C': [0.1, 1, 10, 100, 1000], \n",
        "              'gamma': [1, 0.1, 0.01, 0.001, 0.0001],\n",
        "              'kernel': ['rbf']} \n",
        "\n",
        "grid_search = GridSearchCV(estimator=algo, \n",
        "                             param_grid=param_grid, \n",
        "                             cv = 5, \n",
        "                             scoring='roc_auc', # use roc_auc instead of \"accuracy\"\n",
        "                             return_train_score=True,\n",
        "                             n_jobs = -1,\n",
        "                             verbose = 1)\n",
        "\n",
        "grid_search_results = grid_search.fit (X_trainsm,np.ravel(y_trainsm))\n",
        "\n",
        "best_model = grid_search_results.best_estimator_\n",
        "print (\"Best model : \", best_model)\n",
        "print (\"Best hyper params : \", grid_search_results.best_params_)\n",
        "print (\"Best score : \", grid_search_results.best_score_)"
      ],
      "metadata": {
        "id": "RGHO9x5kXf86"
      },
      "execution_count": null,
      "outputs": []
    },
    {
      "cell_type": "markdown",
      "source": [
        "# Ensemble / Voting Classifier"
      ],
      "metadata": {
        "id": "8A6sN-h6W-Mx"
      }
    },
    {
      "cell_type": "code",
      "source": [
        "from sklearn.metrics import confusion_matrix\n",
        "from sklearn.ensemble import VotingClassifier\n",
        "\n",
        "# Top3 from cross validations are RF, GB and SVM\n",
        "# models to use for ensembling and with best parameters   \n",
        "model1 = RandomForestClassifier(max_depth=25, max_features='sqrt', n_estimators=150)\n",
        "model3 = GradientBoostingClassifier()\n",
        "model2 = LogisticRegression()\n",
        "\n",
        "# fitting the model\n",
        "model = VotingClassifier(estimators=[('rf', model1), ('lr', model2), ('xgb',model3)], voting='soft')\n",
        "model.fit(X_trainsm,y_trainsm)\n"
      ],
      "metadata": {
        "colab": {
          "base_uri": "https://localhost:8080/"
        },
        "id": "EzOTqJdiYqjN",
        "outputId": "2ab92b7b-c17e-40c5-aee2-669bfb266ab6"
      },
      "execution_count": 26,
      "outputs": [
        {
          "output_type": "execute_result",
          "data": {
            "text/plain": [
              "VotingClassifier(estimators=[('rf',\n",
              "                              RandomForestClassifier(max_depth=25,\n",
              "                                                     max_features='sqrt',\n",
              "                                                     n_estimators=150)),\n",
              "                             ('lr', LogisticRegression()),\n",
              "                             ('xgb', GradientBoostingClassifier())],\n",
              "                 voting='soft')"
            ]
          },
          "metadata": {},
          "execution_count": 26
        }
      ]
    },
    {
      "cell_type": "code",
      "source": [
        "algo_stats(model, X_train, y_train, X_test, y_test)"
      ],
      "metadata": {
        "colab": {
          "base_uri": "https://localhost:8080/",
          "height": 1000
        },
        "id": "4hWh3iAcFkYw",
        "outputId": "6e9c6faa-aab6-4081-9d9d-1149c4b0cb35"
      },
      "execution_count": 27,
      "outputs": [
        {
          "output_type": "stream",
          "name": "stdout",
          "text": [
            "Model Analysis : VotingClassifier(estimators=[('rf',\n",
            "                              RandomForestClassifier(max_depth=25,\n",
            "                                                     max_features='sqrt',\n",
            "                                                     n_estimators=150)),\n",
            "                             ('lr', LogisticRegression()),\n",
            "                             ('xgb', GradientBoostingClassifier())],\n",
            "                 voting='soft')\n",
            "F1 Score:  0.6031746031746031\n",
            "Train accuracy:  0.9263160805131608\n",
            "Test accuracy:  0.8838880902355413\n",
            "ROC_AUC_SCORE is 0.8181214348418651\n",
            "Classification Report:\n",
            "              precision    recall  f1-score   support\n",
            "\n",
            "           0       0.96      0.90      0.93      7952\n",
            "           1       0.51      0.73      0.60      1091\n",
            "\n",
            "    accuracy                           0.88      9043\n",
            "   macro avg       0.74      0.82      0.77      9043\n",
            "weighted avg       0.91      0.88      0.89      9043\n",
            "\n"
          ]
        },
        {
          "output_type": "display_data",
          "data": {
            "text/plain": [
              "<Figure size 576x360 with 2 Axes>"
            ],
            "image/png": "[encoded data removed]"
          },
          "metadata": {
            "needs_background": "light"
          }
        },
        {
          "output_type": "stream",
          "name": "stdout",
          "text": [
            "false_positive_rate:  [0.         0.09519618 1.        ]\n",
            "true_positive_rate:  [0.         0.73143905 1.        ]\n",
            "thresholds:  [2 1 0]\n"
          ]
        },
        {
          "output_type": "display_data",
          "data": {
            "text/plain": [
              "<Figure size 432x288 with 1 Axes>"
            ],
            "image/png": "[encoded data removed]"
          },
          "metadata": {
            "needs_background": "light"
          }
        },
        {
          "output_type": "stream",
          "name": "stdout",
          "text": [
            "================================================================================\n"
          ]
        }
      ]
    },
    {
      "cell_type": "code",
      "source": [],
      "metadata": {
        "id": "dZjx4bmxFnsf"
      },
      "execution_count": 27,
      "outputs": []
    }
  ]
}