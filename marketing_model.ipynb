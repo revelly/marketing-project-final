{
  "nbformat": 4,
  "nbformat_minor": 0,
  "metadata": {
    "colab": {
      "provenance": [],
      "collapsed_sections": [],
      "authorship_tag": "ABX9TyPTZ2XRo/kqO1/xFVjeyaMi"
    },
    "kernelspec": {
      "name": "python3",
      "display_name": "Python 3"
    },
    "language_info": {
      "name": "python"
    }
  },
  "cells": [
    {
      "cell_type": "markdown",
      "source": [
        "# Import required packages"
      ],
      "metadata": {
        "id": "4nsgvK48wYFo"
      }
    },
    {
      "cell_type": "code",
      "source": [
        "import numpy as np\n",
        "import pandas as pd\n",
        "import matplotlib.pyplot as plt\n",
        "import seaborn as sns\n",
        "import os\n",
        "import urllib.request\n",
        "from sklearn.model_selection import train_test_split\n",
        "\n",
        "import sweetviz as sv\n",
        "\n",
        "import warnings\n",
        "warnings.filterwarnings('ignore')\n",
        "\n",
        "%matplotlib inline"
      ],
      "metadata": {
        "id": "2EXZfQiJwZhT"
      },
      "execution_count": 1,
      "outputs": []
    },
    {
      "cell_type": "markdown",
      "source": [
        "# Load Data"
      ],
      "metadata": {
        "id": "MkK7WY11y_3q"
      }
    },
    {
      "cell_type": "code",
      "source": [
        "data_location = \"bank-full.csv\"\n",
        "data_url = 'https://github.com/diwakarsachan/marketing-project-final/raw/main/bank-full.csv'\n",
        "\n",
        "if not os.path.exists (data_location):\n",
        "    data_location = os.path.basename(data_location)\n",
        "    if not os.path.exists(data_location):\n",
        "        print(\"Downloading : \", data_url)\n",
        "        urllib.request.urlretrieve(data_url, data_location)\n",
        "print('data_location:', data_location)"
      ],
      "metadata": {
        "colab": {
          "base_uri": "https://localhost:8080/"
        },
        "id": "RBAWPCVvyS2-",
        "outputId": "368a6612-b9c8-4c7e-d1c4-56c56d244734"
      },
      "execution_count": 2,
      "outputs": [
        {
          "output_type": "stream",
          "name": "stdout",
          "text": [
            "data_location: bank-full.csv\n"
          ]
        }
      ]
    },
    {
      "cell_type": "code",
      "source": [
        "pd.options.display.float_format = '{:,.2f}'.format\n",
        "pd.set_option('display.max_columns', None)  \n",
        "pd.set_option('display.max_colwidth', None) \n",
        "\n",
        "marketing_outcome = pd.read_csv(data_location, sep=';')\n",
        "print('Orignal Shape of the data : ',marketing_outcome.shape)\n"
      ],
      "metadata": {
        "colab": {
          "base_uri": "https://localhost:8080/"
        },
        "id": "83n_6mY3zE-r",
        "outputId": "1b13c0f6-012a-46e0-95fd-548578f1c3e5"
      },
      "execution_count": 3,
      "outputs": [
        {
          "output_type": "stream",
          "name": "stdout",
          "text": [
            "Orignal Shape of the data :  (45211, 17)\n"
          ]
        }
      ]
    },
    {
      "cell_type": "markdown",
      "source": [
        "# Shape Data"
      ],
      "metadata": {
        "id": "1wvieMOL9ADr"
      }
    },
    {
      "cell_type": "code",
      "source": [
        "numeric_data = marketing_outcome.select_dtypes(include=np.number) # select_dtypes selects data with numeric features\n",
        "numeric_col = numeric_data.columns"
      ],
      "metadata": {
        "id": "g1qS5mSs8EtB"
      },
      "execution_count": 4,
      "outputs": []
    },
    {
      "cell_type": "code",
      "source": [
        "marketing_outcome =marketing_outcome.replace({'default': {'yes': 1, 'no': 0}, 'housing': {'yes': 1, 'no': 0}, 'loan': {'yes': 1, 'no': 0}, 'y': {'yes': 1, 'no': 0}})"
      ],
      "metadata": {
        "id": "mQ-jIejhAlXa"
      },
      "execution_count": 5,
      "outputs": []
    },
    {
      "cell_type": "code",
      "source": [
        "categorical_col = marketing_outcome.select_dtypes(include='O')\n",
        "marketing_outcome = pd.get_dummies(marketing_outcome, columns=[col for col in marketing_outcome.columns if col in categorical_col])"
      ],
      "metadata": {
        "id": "WDKAg7giBFFn"
      },
      "execution_count": 6,
      "outputs": []
    },
    {
      "cell_type": "code",
      "source": [
        "# Numeric Columns for Scaling\n",
        "df_numeric = marketing_outcome[numeric_col]"
      ],
      "metadata": {
        "id": "aZ1H6c3mCJJi"
      },
      "execution_count": 7,
      "outputs": []
    },
    {
      "cell_type": "code",
      "source": [
        "from sklearn.preprocessing import StandardScaler, MinMaxScaler\n",
        "minmax_scalar = MinMaxScaler()\n",
        "nd_numeric_transform = minmax_scalar.fit_transform(df_numeric)"
      ],
      "metadata": {
        "id": "BOAF5xDzCT6w"
      },
      "execution_count": 8,
      "outputs": []
    },
    {
      "cell_type": "code",
      "source": [
        "df_numeric_transform=pd.DataFrame(np.array(nd_numeric_transform))\n",
        "df_numeric_transform.columns = numeric_col\n",
        "df_numeric_transform.head()"
      ],
      "metadata": {
        "colab": {
          "base_uri": "https://localhost:8080/",
          "height": 206
        },
        "id": "lHDAgjnNCa7F",
        "outputId": "df31623c-86ea-464d-a403-cf05065b67c0"
      },
      "execution_count": 9,
      "outputs": [
        {
          "output_type": "execute_result",
          "data": {
            "text/plain": [
              "   age  balance  day  duration  campaign  pdays  previous\n",
              "0 0.52     0.09 0.13      0.05      0.00   0.00      0.00\n",
              "1 0.34     0.07 0.13      0.03      0.00   0.00      0.00\n",
              "2 0.19     0.07 0.13      0.02      0.00   0.00      0.00\n",
              "3 0.38     0.09 0.13      0.02      0.00   0.00      0.00\n",
              "4 0.19     0.07 0.13      0.04      0.00   0.00      0.00"
            ],
            "text/html": [
              "\n",
              "  <div id=\"df-888fcd17-32b6-4a79-ab80-2c9e60199b3e\">\n",
              "    <div class=\"colab-df-container\">\n",
              "      <div>\n",
              "<style scoped>\n",
              "    .dataframe tbody tr th:only-of-type {\n",
              "        vertical-align: middle;\n",
              "    }\n",
              "\n",
              "    .dataframe tbody tr th {\n",
              "        vertical-align: top;\n",
              "    }\n",
              "\n",
              "    .dataframe thead th {\n",
              "        text-align: right;\n",
              "    }\n",
              "</style>\n",
              "<table border=\"1\" class=\"dataframe\">\n",
              "  <thead>\n",
              "    <tr style=\"text-align: right;\">\n",
              "      <th></th>\n",
              "      <th>age</th>\n",
              "      <th>balance</th>\n",
              "      <th>day</th>\n",
              "      <th>duration</th>\n",
              "      <th>campaign</th>\n",
              "      <th>pdays</th>\n",
              "      <th>previous</th>\n",
              "    </tr>\n",
              "  </thead>\n",
              "  <tbody>\n",
              "    <tr>\n",
              "      <th>0</th>\n",
              "      <td>0.52</td>\n",
              "      <td>0.09</td>\n",
              "      <td>0.13</td>\n",
              "      <td>0.05</td>\n",
              "      <td>0.00</td>\n",
              "      <td>0.00</td>\n",
              "      <td>0.00</td>\n",
              "    </tr>\n",
              "    <tr>\n",
              "      <th>1</th>\n",
              "      <td>0.34</td>\n",
              "      <td>0.07</td>\n",
              "      <td>0.13</td>\n",
              "      <td>0.03</td>\n",
              "      <td>0.00</td>\n",
              "      <td>0.00</td>\n",
              "      <td>0.00</td>\n",
              "    </tr>\n",
              "    <tr>\n",
              "      <th>2</th>\n",
              "      <td>0.19</td>\n",
              "      <td>0.07</td>\n",
              "      <td>0.13</td>\n",
              "      <td>0.02</td>\n",
              "      <td>0.00</td>\n",
              "      <td>0.00</td>\n",
              "      <td>0.00</td>\n",
              "    </tr>\n",
              "    <tr>\n",
              "      <th>3</th>\n",
              "      <td>0.38</td>\n",
              "      <td>0.09</td>\n",
              "      <td>0.13</td>\n",
              "      <td>0.02</td>\n",
              "      <td>0.00</td>\n",
              "      <td>0.00</td>\n",
              "      <td>0.00</td>\n",
              "    </tr>\n",
              "    <tr>\n",
              "      <th>4</th>\n",
              "      <td>0.19</td>\n",
              "      <td>0.07</td>\n",
              "      <td>0.13</td>\n",
              "      <td>0.04</td>\n",
              "      <td>0.00</td>\n",
              "      <td>0.00</td>\n",
              "      <td>0.00</td>\n",
              "    </tr>\n",
              "  </tbody>\n",
              "</table>\n",
              "</div>\n",
              "      <button class=\"colab-df-convert\" onclick=\"convertToInteractive('df-888fcd17-32b6-4a79-ab80-2c9e60199b3e')\"\n",
              "              title=\"Convert this dataframe to an interactive table.\"\n",
              "              style=\"display:none;\">\n",
              "        \n",
              "  <svg xmlns=\"http://www.w3.org/2000/svg\" height=\"24px\"viewBox=\"0 0 24 24\"\n",
              "       width=\"24px\">\n",
              "    <path d=\"M0 0h24v24H0V0z\" fill=\"none\"/>\n",
              "    <path d=\"M18.56 5.44l.94 2.06.94-2.06 2.06-.94-2.06-.94-.94-2.06-.94 2.06-2.06.94zm-11 1L8.5 8.5l.94-2.06 2.06-.94-2.06-.94L8.5 2.5l-.94 2.06-2.06.94zm10 10l.94 2.06.94-2.06 2.06-.94-2.06-.94-.94-2.06-.94 2.06-2.06.94z\"/><path d=\"M17.41 7.96l-1.37-1.37c-.4-.4-.92-.59-1.43-.59-.52 0-1.04.2-1.43.59L10.3 9.45l-7.72 7.72c-.78.78-.78 2.05 0 2.83L4 21.41c.39.39.9.59 1.41.59.51 0 1.02-.2 1.41-.59l7.78-7.78 2.81-2.81c.8-.78.8-2.07 0-2.86zM5.41 20L4 18.59l7.72-7.72 1.47 1.35L5.41 20z\"/>\n",
              "  </svg>\n",
              "      </button>\n",
              "      \n",
              "  <style>\n",
              "    .colab-df-container {\n",
              "      display:flex;\n",
              "      flex-wrap:wrap;\n",
              "      gap: 12px;\n",
              "    }\n",
              "\n",
              "    .colab-df-convert {\n",
              "      background-color: #E8F0FE;\n",
              "      border: none;\n",
              "      border-radius: 50%;\n",
              "      cursor: pointer;\n",
              "      display: none;\n",
              "      fill: #1967D2;\n",
              "      height: 32px;\n",
              "      padding: 0 0 0 0;\n",
              "      width: 32px;\n",
              "    }\n",
              "\n",
              "    .colab-df-convert:hover {\n",
              "      background-color: #E2EBFA;\n",
              "      box-shadow: 0px 1px 2px rgba(60, 64, 67, 0.3), 0px 1px 3px 1px rgba(60, 64, 67, 0.15);\n",
              "      fill: #174EA6;\n",
              "    }\n",
              "\n",
              "    [theme=dark] .colab-df-convert {\n",
              "      background-color: #3B4455;\n",
              "      fill: #D2E3FC;\n",
              "    }\n",
              "\n",
              "    [theme=dark] .colab-df-convert:hover {\n",
              "      background-color: #434B5C;\n",
              "      box-shadow: 0px 1px 3px 1px rgba(0, 0, 0, 0.15);\n",
              "      filter: drop-shadow(0px 1px 2px rgba(0, 0, 0, 0.3));\n",
              "      fill: #FFFFFF;\n",
              "    }\n",
              "  </style>\n",
              "\n",
              "      <script>\n",
              "        const buttonEl =\n",
              "          document.querySelector('#df-888fcd17-32b6-4a79-ab80-2c9e60199b3e button.colab-df-convert');\n",
              "        buttonEl.style.display =\n",
              "          google.colab.kernel.accessAllowed ? 'block' : 'none';\n",
              "\n",
              "        async function convertToInteractive(key) {\n",
              "          const element = document.querySelector('#df-888fcd17-32b6-4a79-ab80-2c9e60199b3e');\n",
              "          const dataTable =\n",
              "            await google.colab.kernel.invokeFunction('convertToInteractive',\n",
              "                                                     [key], {});\n",
              "          if (!dataTable) return;\n",
              "\n",
              "          const docLinkHtml = 'Like what you see? Visit the ' +\n",
              "            '<a target=\"_blank\" href=https://colab.research.google.com/notebooks/data_table.ipynb>data table notebook</a>'\n",
              "            + ' to learn more about interactive tables.';\n",
              "          element.innerHTML = '';\n",
              "          dataTable['output_type'] = 'display_data';\n",
              "          await google.colab.output.renderOutput(dataTable, element);\n",
              "          const docLink = document.createElement('div');\n",
              "          docLink.innerHTML = docLinkHtml;\n",
              "          element.appendChild(docLink);\n",
              "        }\n",
              "      </script>\n",
              "    </div>\n",
              "  </div>\n",
              "  "
            ]
          },
          "metadata": {},
          "execution_count": 9
        }
      ]
    },
    {
      "cell_type": "code",
      "source": [
        "non_numeric_columns = [i for i in marketing_outcome.columns if i not in numeric_col]\n",
        "marketing_outcome_final = pd.concat([df_numeric_transform, marketing_outcome[non_numeric_columns]], axis=1) \n",
        "marketing_outcome_final.head()"
      ],
      "metadata": {
        "colab": {
          "base_uri": "https://localhost:8080/",
          "height": 288
        },
        "id": "IF-uAOfGC07u",
        "outputId": "f008958a-4dbc-4e83-ff39-9275059c4e45"
      },
      "execution_count": 10,
      "outputs": [
        {
          "output_type": "execute_result",
          "data": {
            "text/plain": [
              "   age  balance  day  duration  campaign  pdays  previous  default  housing  \\\n",
              "0 0.52     0.09 0.13      0.05      0.00   0.00      0.00        0        1   \n",
              "1 0.34     0.07 0.13      0.03      0.00   0.00      0.00        0        1   \n",
              "2 0.19     0.07 0.13      0.02      0.00   0.00      0.00        0        1   \n",
              "3 0.38     0.09 0.13      0.02      0.00   0.00      0.00        0        1   \n",
              "4 0.19     0.07 0.13      0.04      0.00   0.00      0.00        0        0   \n",
              "\n",
              "   loan  y  job_admin.  job_blue-collar  job_entrepreneur  job_housemaid  \\\n",
              "0     0  0           0                0                 0              0   \n",
              "1     0  0           0                0                 0              0   \n",
              "2     1  0           0                0                 1              0   \n",
              "3     0  0           0                1                 0              0   \n",
              "4     0  0           0                0                 0              0   \n",
              "\n",
              "   job_management  job_retired  job_self-employed  job_services  job_student  \\\n",
              "0               1            0                  0             0            0   \n",
              "1               0            0                  0             0            0   \n",
              "2               0            0                  0             0            0   \n",
              "3               0            0                  0             0            0   \n",
              "4               0            0                  0             0            0   \n",
              "\n",
              "   job_technician  job_unemployed  job_unknown  marital_divorced  \\\n",
              "0               0               0            0                 0   \n",
              "1               1               0            0                 0   \n",
              "2               0               0            0                 0   \n",
              "3               0               0            0                 0   \n",
              "4               0               0            1                 0   \n",
              "\n",
              "   marital_married  marital_single  education_primary  education_secondary  \\\n",
              "0                1               0                  0                    0   \n",
              "1                0               1                  0                    1   \n",
              "2                1               0                  0                    1   \n",
              "3                1               0                  0                    0   \n",
              "4                0               1                  0                    0   \n",
              "\n",
              "   education_tertiary  education_unknown  contact_cellular  contact_telephone  \\\n",
              "0                   1                  0                 0                  0   \n",
              "1                   0                  0                 0                  0   \n",
              "2                   0                  0                 0                  0   \n",
              "3                   0                  1                 0                  0   \n",
              "4                   0                  1                 0                  0   \n",
              "\n",
              "   contact_unknown  month_apr  month_aug  month_dec  month_feb  month_jan  \\\n",
              "0                1          0          0          0          0          0   \n",
              "1                1          0          0          0          0          0   \n",
              "2                1          0          0          0          0          0   \n",
              "3                1          0          0          0          0          0   \n",
              "4                1          0          0          0          0          0   \n",
              "\n",
              "   month_jul  month_jun  month_mar  month_may  month_nov  month_oct  \\\n",
              "0          0          0          0          1          0          0   \n",
              "1          0          0          0          1          0          0   \n",
              "2          0          0          0          1          0          0   \n",
              "3          0          0          0          1          0          0   \n",
              "4          0          0          0          1          0          0   \n",
              "\n",
              "   month_sep  poutcome_failure  poutcome_other  poutcome_success  \\\n",
              "0          0                 0               0                 0   \n",
              "1          0                 0               0                 0   \n",
              "2          0                 0               0                 0   \n",
              "3          0                 0               0                 0   \n",
              "4          0                 0               0                 0   \n",
              "\n",
              "   poutcome_unknown  \n",
              "0                 1  \n",
              "1                 1  \n",
              "2                 1  \n",
              "3                 1  \n",
              "4                 1  "
            ],
            "text/html": [
              "\n",
              "  <div id=\"df-616f6787-2bf7-4334-8fa5-40018ca4dc86\">\n",
              "    <div class=\"colab-df-container\">\n",
              "      <div>\n",
              "<style scoped>\n",
              "    .dataframe tbody tr th:only-of-type {\n",
              "        vertical-align: middle;\n",
              "    }\n",
              "\n",
              "    .dataframe tbody tr th {\n",
              "        vertical-align: top;\n",
              "    }\n",
              "\n",
              "    .dataframe thead th {\n",
              "        text-align: right;\n",
              "    }\n",
              "</style>\n",
              "<table border=\"1\" class=\"dataframe\">\n",
              "  <thead>\n",
              "    <tr style=\"text-align: right;\">\n",
              "      <th></th>\n",
              "      <th>age</th>\n",
              "      <th>balance</th>\n",
              "      <th>day</th>\n",
              "      <th>duration</th>\n",
              "      <th>campaign</th>\n",
              "      <th>pdays</th>\n",
              "      <th>previous</th>\n",
              "      <th>default</th>\n",
              "      <th>housing</th>\n",
              "      <th>loan</th>\n",
              "      <th>y</th>\n",
              "      <th>job_admin.</th>\n",
              "      <th>job_blue-collar</th>\n",
              "      <th>job_entrepreneur</th>\n",
              "      <th>job_housemaid</th>\n",
              "      <th>job_management</th>\n",
              "      <th>job_retired</th>\n",
              "      <th>job_self-employed</th>\n",
              "      <th>job_services</th>\n",
              "      <th>job_student</th>\n",
              "      <th>job_technician</th>\n",
              "      <th>job_unemployed</th>\n",
              "      <th>job_unknown</th>\n",
              "      <th>marital_divorced</th>\n",
              "      <th>marital_married</th>\n",
              "      <th>marital_single</th>\n",
              "      <th>education_primary</th>\n",
              "      <th>education_secondary</th>\n",
              "      <th>education_tertiary</th>\n",
              "      <th>education_unknown</th>\n",
              "      <th>contact_cellular</th>\n",
              "      <th>contact_telephone</th>\n",
              "      <th>contact_unknown</th>\n",
              "      <th>month_apr</th>\n",
              "      <th>month_aug</th>\n",
              "      <th>month_dec</th>\n",
              "      <th>month_feb</th>\n",
              "      <th>month_jan</th>\n",
              "      <th>month_jul</th>\n",
              "      <th>month_jun</th>\n",
              "      <th>month_mar</th>\n",
              "      <th>month_may</th>\n",
              "      <th>month_nov</th>\n",
              "      <th>month_oct</th>\n",
              "      <th>month_sep</th>\n",
              "      <th>poutcome_failure</th>\n",
              "      <th>poutcome_other</th>\n",
              "      <th>poutcome_success</th>\n",
              "      <th>poutcome_unknown</th>\n",
              "    </tr>\n",
              "  </thead>\n",
              "  <tbody>\n",
              "    <tr>\n",
              "      <th>0</th>\n",
              "      <td>0.52</td>\n",
              "      <td>0.09</td>\n",
              "      <td>0.13</td>\n",
              "      <td>0.05</td>\n",
              "      <td>0.00</td>\n",
              "      <td>0.00</td>\n",
              "      <td>0.00</td>\n",
              "      <td>0</td>\n",
              "      <td>1</td>\n",
              "      <td>0</td>\n",
              "      <td>0</td>\n",
              "      <td>0</td>\n",
              "      <td>0</td>\n",
              "      <td>0</td>\n",
              "      <td>0</td>\n",
              "      <td>1</td>\n",
              "      <td>0</td>\n",
              "      <td>0</td>\n",
              "      <td>0</td>\n",
              "      <td>0</td>\n",
              "      <td>0</td>\n",
              "      <td>0</td>\n",
              "      <td>0</td>\n",
              "      <td>0</td>\n",
              "      <td>1</td>\n",
              "      <td>0</td>\n",
              "      <td>0</td>\n",
              "      <td>0</td>\n",
              "      <td>1</td>\n",
              "      <td>0</td>\n",
              "      <td>0</td>\n",
              "      <td>0</td>\n",
              "      <td>1</td>\n",
              "      <td>0</td>\n",
              "      <td>0</td>\n",
              "      <td>0</td>\n",
              "      <td>0</td>\n",
              "      <td>0</td>\n",
              "      <td>0</td>\n",
              "      <td>0</td>\n",
              "      <td>0</td>\n",
              "      <td>1</td>\n",
              "      <td>0</td>\n",
              "      <td>0</td>\n",
              "      <td>0</td>\n",
              "      <td>0</td>\n",
              "      <td>0</td>\n",
              "      <td>0</td>\n",
              "      <td>1</td>\n",
              "    </tr>\n",
              "    <tr>\n",
              "      <th>1</th>\n",
              "      <td>0.34</td>\n",
              "      <td>0.07</td>\n",
              "      <td>0.13</td>\n",
              "      <td>0.03</td>\n",
              "      <td>0.00</td>\n",
              "      <td>0.00</td>\n",
              "      <td>0.00</td>\n",
              "      <td>0</td>\n",
              "      <td>1</td>\n",
              "      <td>0</td>\n",
              "      <td>0</td>\n",
              "      <td>0</td>\n",
              "      <td>0</td>\n",
              "      <td>0</td>\n",
              "      <td>0</td>\n",
              "      <td>0</td>\n",
              "      <td>0</td>\n",
              "      <td>0</td>\n",
              "      <td>0</td>\n",
              "      <td>0</td>\n",
              "      <td>1</td>\n",
              "      <td>0</td>\n",
              "      <td>0</td>\n",
              "      <td>0</td>\n",
              "      <td>0</td>\n",
              "      <td>1</td>\n",
              "      <td>0</td>\n",
              "      <td>1</td>\n",
              "      <td>0</td>\n",
              "      <td>0</td>\n",
              "      <td>0</td>\n",
              "      <td>0</td>\n",
              "      <td>1</td>\n",
              "      <td>0</td>\n",
              "      <td>0</td>\n",
              "      <td>0</td>\n",
              "      <td>0</td>\n",
              "      <td>0</td>\n",
              "      <td>0</td>\n",
              "      <td>0</td>\n",
              "      <td>0</td>\n",
              "      <td>1</td>\n",
              "      <td>0</td>\n",
              "      <td>0</td>\n",
              "      <td>0</td>\n",
              "      <td>0</td>\n",
              "      <td>0</td>\n",
              "      <td>0</td>\n",
              "      <td>1</td>\n",
              "    </tr>\n",
              "    <tr>\n",
              "      <th>2</th>\n",
              "      <td>0.19</td>\n",
              "      <td>0.07</td>\n",
              "      <td>0.13</td>\n",
              "      <td>0.02</td>\n",
              "      <td>0.00</td>\n",
              "      <td>0.00</td>\n",
              "      <td>0.00</td>\n",
              "      <td>0</td>\n",
              "      <td>1</td>\n",
              "      <td>1</td>\n",
              "      <td>0</td>\n",
              "      <td>0</td>\n",
              "      <td>0</td>\n",
              "      <td>1</td>\n",
              "      <td>0</td>\n",
              "      <td>0</td>\n",
              "      <td>0</td>\n",
              "      <td>0</td>\n",
              "      <td>0</td>\n",
              "      <td>0</td>\n",
              "      <td>0</td>\n",
              "      <td>0</td>\n",
              "      <td>0</td>\n",
              "      <td>0</td>\n",
              "      <td>1</td>\n",
              "      <td>0</td>\n",
              "      <td>0</td>\n",
              "      <td>1</td>\n",
              "      <td>0</td>\n",
              "      <td>0</td>\n",
              "      <td>0</td>\n",
              "      <td>0</td>\n",
              "      <td>1</td>\n",
              "      <td>0</td>\n",
              "      <td>0</td>\n",
              "      <td>0</td>\n",
              "      <td>0</td>\n",
              "      <td>0</td>\n",
              "      <td>0</td>\n",
              "      <td>0</td>\n",
              "      <td>0</td>\n",
              "      <td>1</td>\n",
              "      <td>0</td>\n",
              "      <td>0</td>\n",
              "      <td>0</td>\n",
              "      <td>0</td>\n",
              "      <td>0</td>\n",
              "      <td>0</td>\n",
              "      <td>1</td>\n",
              "    </tr>\n",
              "    <tr>\n",
              "      <th>3</th>\n",
              "      <td>0.38</td>\n",
              "      <td>0.09</td>\n",
              "      <td>0.13</td>\n",
              "      <td>0.02</td>\n",
              "      <td>0.00</td>\n",
              "      <td>0.00</td>\n",
              "      <td>0.00</td>\n",
              "      <td>0</td>\n",
              "      <td>1</td>\n",
              "      <td>0</td>\n",
              "      <td>0</td>\n",
              "      <td>0</td>\n",
              "      <td>1</td>\n",
              "      <td>0</td>\n",
              "      <td>0</td>\n",
              "      <td>0</td>\n",
              "      <td>0</td>\n",
              "      <td>0</td>\n",
              "      <td>0</td>\n",
              "      <td>0</td>\n",
              "      <td>0</td>\n",
              "      <td>0</td>\n",
              "      <td>0</td>\n",
              "      <td>0</td>\n",
              "      <td>1</td>\n",
              "      <td>0</td>\n",
              "      <td>0</td>\n",
              "      <td>0</td>\n",
              "      <td>0</td>\n",
              "      <td>1</td>\n",
              "      <td>0</td>\n",
              "      <td>0</td>\n",
              "      <td>1</td>\n",
              "      <td>0</td>\n",
              "      <td>0</td>\n",
              "      <td>0</td>\n",
              "      <td>0</td>\n",
              "      <td>0</td>\n",
              "      <td>0</td>\n",
              "      <td>0</td>\n",
              "      <td>0</td>\n",
              "      <td>1</td>\n",
              "      <td>0</td>\n",
              "      <td>0</td>\n",
              "      <td>0</td>\n",
              "      <td>0</td>\n",
              "      <td>0</td>\n",
              "      <td>0</td>\n",
              "      <td>1</td>\n",
              "    </tr>\n",
              "    <tr>\n",
              "      <th>4</th>\n",
              "      <td>0.19</td>\n",
              "      <td>0.07</td>\n",
              "      <td>0.13</td>\n",
              "      <td>0.04</td>\n",
              "      <td>0.00</td>\n",
              "      <td>0.00</td>\n",
              "      <td>0.00</td>\n",
              "      <td>0</td>\n",
              "      <td>0</td>\n",
              "      <td>0</td>\n",
              "      <td>0</td>\n",
              "      <td>0</td>\n",
              "      <td>0</td>\n",
              "      <td>0</td>\n",
              "      <td>0</td>\n",
              "      <td>0</td>\n",
              "      <td>0</td>\n",
              "      <td>0</td>\n",
              "      <td>0</td>\n",
              "      <td>0</td>\n",
              "      <td>0</td>\n",
              "      <td>0</td>\n",
              "      <td>1</td>\n",
              "      <td>0</td>\n",
              "      <td>0</td>\n",
              "      <td>1</td>\n",
              "      <td>0</td>\n",
              "      <td>0</td>\n",
              "      <td>0</td>\n",
              "      <td>1</td>\n",
              "      <td>0</td>\n",
              "      <td>0</td>\n",
              "      <td>1</td>\n",
              "      <td>0</td>\n",
              "      <td>0</td>\n",
              "      <td>0</td>\n",
              "      <td>0</td>\n",
              "      <td>0</td>\n",
              "      <td>0</td>\n",
              "      <td>0</td>\n",
              "      <td>0</td>\n",
              "      <td>1</td>\n",
              "      <td>0</td>\n",
              "      <td>0</td>\n",
              "      <td>0</td>\n",
              "      <td>0</td>\n",
              "      <td>0</td>\n",
              "      <td>0</td>\n",
              "      <td>1</td>\n",
              "    </tr>\n",
              "  </tbody>\n",
              "</table>\n",
              "</div>\n",
              "      <button class=\"colab-df-convert\" onclick=\"convertToInteractive('df-616f6787-2bf7-4334-8fa5-40018ca4dc86')\"\n",
              "              title=\"Convert this dataframe to an interactive table.\"\n",
              "              style=\"display:none;\">\n",
              "        \n",
              "  <svg xmlns=\"http://www.w3.org/2000/svg\" height=\"24px\"viewBox=\"0 0 24 24\"\n",
              "       width=\"24px\">\n",
              "    <path d=\"M0 0h24v24H0V0z\" fill=\"none\"/>\n",
              "    <path d=\"M18.56 5.44l.94 2.06.94-2.06 2.06-.94-2.06-.94-.94-2.06-.94 2.06-2.06.94zm-11 1L8.5 8.5l.94-2.06 2.06-.94-2.06-.94L8.5 2.5l-.94 2.06-2.06.94zm10 10l.94 2.06.94-2.06 2.06-.94-2.06-.94-.94-2.06-.94 2.06-2.06.94z\"/><path d=\"M17.41 7.96l-1.37-1.37c-.4-.4-.92-.59-1.43-.59-.52 0-1.04.2-1.43.59L10.3 9.45l-7.72 7.72c-.78.78-.78 2.05 0 2.83L4 21.41c.39.39.9.59 1.41.59.51 0 1.02-.2 1.41-.59l7.78-7.78 2.81-2.81c.8-.78.8-2.07 0-2.86zM5.41 20L4 18.59l7.72-7.72 1.47 1.35L5.41 20z\"/>\n",
              "  </svg>\n",
              "      </button>\n",
              "      \n",
              "  <style>\n",
              "    .colab-df-container {\n",
              "      display:flex;\n",
              "      flex-wrap:wrap;\n",
              "      gap: 12px;\n",
              "    }\n",
              "\n",
              "    .colab-df-convert {\n",
              "      background-color: #E8F0FE;\n",
              "      border: none;\n",
              "      border-radius: 50%;\n",
              "      cursor: pointer;\n",
              "      display: none;\n",
              "      fill: #1967D2;\n",
              "      height: 32px;\n",
              "      padding: 0 0 0 0;\n",
              "      width: 32px;\n",
              "    }\n",
              "\n",
              "    .colab-df-convert:hover {\n",
              "      background-color: #E2EBFA;\n",
              "      box-shadow: 0px 1px 2px rgba(60, 64, 67, 0.3), 0px 1px 3px 1px rgba(60, 64, 67, 0.15);\n",
              "      fill: #174EA6;\n",
              "    }\n",
              "\n",
              "    [theme=dark] .colab-df-convert {\n",
              "      background-color: #3B4455;\n",
              "      fill: #D2E3FC;\n",
              "    }\n",
              "\n",
              "    [theme=dark] .colab-df-convert:hover {\n",
              "      background-color: #434B5C;\n",
              "      box-shadow: 0px 1px 3px 1px rgba(0, 0, 0, 0.15);\n",
              "      filter: drop-shadow(0px 1px 2px rgba(0, 0, 0, 0.3));\n",
              "      fill: #FFFFFF;\n",
              "    }\n",
              "  </style>\n",
              "\n",
              "      <script>\n",
              "        const buttonEl =\n",
              "          document.querySelector('#df-616f6787-2bf7-4334-8fa5-40018ca4dc86 button.colab-df-convert');\n",
              "        buttonEl.style.display =\n",
              "          google.colab.kernel.accessAllowed ? 'block' : 'none';\n",
              "\n",
              "        async function convertToInteractive(key) {\n",
              "          const element = document.querySelector('#df-616f6787-2bf7-4334-8fa5-40018ca4dc86');\n",
              "          const dataTable =\n",
              "            await google.colab.kernel.invokeFunction('convertToInteractive',\n",
              "                                                     [key], {});\n",
              "          if (!dataTable) return;\n",
              "\n",
              "          const docLinkHtml = 'Like what you see? Visit the ' +\n",
              "            '<a target=\"_blank\" href=https://colab.research.google.com/notebooks/data_table.ipynb>data table notebook</a>'\n",
              "            + ' to learn more about interactive tables.';\n",
              "          element.innerHTML = '';\n",
              "          dataTable['output_type'] = 'display_data';\n",
              "          await google.colab.output.renderOutput(dataTable, element);\n",
              "          const docLink = document.createElement('div');\n",
              "          docLink.innerHTML = docLinkHtml;\n",
              "          element.appendChild(docLink);\n",
              "        }\n",
              "      </script>\n",
              "    </div>\n",
              "  </div>\n",
              "  "
            ]
          },
          "metadata": {},
          "execution_count": 10
        }
      ]
    },
    {
      "cell_type": "markdown",
      "source": [
        "# Feature Engineering"
      ],
      "metadata": {
        "id": "_7ARUB7ODwOp"
      }
    },
    {
      "cell_type": "code",
      "source": [
        "label_col = 'y'\n",
        "\n",
        "feature_columns = marketing_outcome_final.columns\n",
        "feature_columns = feature_columns.drop (['y'])\n",
        "print (feature_columns)"
      ],
      "metadata": {
        "colab": {
          "base_uri": "https://localhost:8080/"
        },
        "id": "oRj6xHEbDheY",
        "outputId": "743692da-e29e-493c-cc07-aef14f124c7a"
      },
      "execution_count": 11,
      "outputs": [
        {
          "output_type": "stream",
          "name": "stdout",
          "text": [
            "Index(['age', 'balance', 'day', 'duration', 'campaign', 'pdays', 'previous',\n",
            "       'default', 'housing', 'loan', 'job_admin.', 'job_blue-collar',\n",
            "       'job_entrepreneur', 'job_housemaid', 'job_management', 'job_retired',\n",
            "       'job_self-employed', 'job_services', 'job_student', 'job_technician',\n",
            "       'job_unemployed', 'job_unknown', 'marital_divorced', 'marital_married',\n",
            "       'marital_single', 'education_primary', 'education_secondary',\n",
            "       'education_tertiary', 'education_unknown', 'contact_cellular',\n",
            "       'contact_telephone', 'contact_unknown', 'month_apr', 'month_aug',\n",
            "       'month_dec', 'month_feb', 'month_jan', 'month_jul', 'month_jun',\n",
            "       'month_mar', 'month_may', 'month_nov', 'month_oct', 'month_sep',\n",
            "       'poutcome_failure', 'poutcome_other', 'poutcome_success',\n",
            "       'poutcome_unknown'],\n",
            "      dtype='object')\n"
          ]
        }
      ]
    },
    {
      "cell_type": "code",
      "source": [
        "X = marketing_outcome_final[feature_columns]\n",
        "y = marketing_outcome_final[[label_col]]\n",
        "\n",
        "print (X.shape)\n",
        "print (y.shape)"
      ],
      "metadata": {
        "colab": {
          "base_uri": "https://localhost:8080/"
        },
        "id": "WLVvQOQrEM8j",
        "outputId": "858894a4-cd23-49c0-8e3e-06408b771613"
      },
      "execution_count": 12,
      "outputs": [
        {
          "output_type": "stream",
          "name": "stdout",
          "text": [
            "(45211, 48)\n",
            "(45211, 1)\n"
          ]
        }
      ]
    },
    {
      "cell_type": "markdown",
      "source": [
        "# Test Train Split"
      ],
      "metadata": {
        "id": "Mm-UaVxcEW42"
      }
    },
    {
      "cell_type": "code",
      "source": [
        "X_train,X_test,y_train, y_test = train_test_split(X, y,  test_size=.2, random_state=42)\n",
        "\n",
        "print (\"x_train :\" , X_train.shape )\n",
        "print (\"x_test :\", X_test.shape)\n",
        "print (\"y_train :\", y_train.shape)\n",
        "print (\"y_test :\", y_test.shape)"
      ],
      "metadata": {
        "colab": {
          "base_uri": "https://localhost:8080/"
        },
        "id": "xOiQv6EsETyz",
        "outputId": "a4f9c53e-eaa5-4e1b-83f9-f38ba495889b"
      },
      "execution_count": 13,
      "outputs": [
        {
          "output_type": "stream",
          "name": "stdout",
          "text": [
            "x_train : (36168, 48)\n",
            "x_test : (9043, 48)\n",
            "y_train : (36168, 1)\n",
            "y_test : (9043, 1)\n"
          ]
        }
      ]
    },
    {
      "cell_type": "markdown",
      "source": [
        "# Over sample to fix the imbalace"
      ],
      "metadata": {
        "id": "8D1FB097EtzQ"
      }
    },
    {
      "cell_type": "code",
      "source": [
        "from imblearn.over_sampling import SMOTE\n",
        "smote = SMOTE()\n",
        "\n",
        "# fit predictor and target variable also ensure you dont oversample on test data\n",
        "X_trainsm, y_trainsm = smote.fit_resample(X_train, y_train)\n",
        "\n",
        "print('Original dataset shape', len(y_train))\n",
        "print('Resample dataset shape', len(y_trainsm))"
      ],
      "metadata": {
        "colab": {
          "base_uri": "https://localhost:8080/"
        },
        "id": "RYsq-uP7ErHe",
        "outputId": "3aecb48e-528c-4b69-ec39-5667e86d30cf"
      },
      "execution_count": 14,
      "outputs": [
        {
          "output_type": "stream",
          "name": "stdout",
          "text": [
            "Original dataset shape 36168\n",
            "Resample dataset shape 63940\n"
          ]
        }
      ]
    },
    {
      "cell_type": "code",
      "source": [
        "# Check for impbalnce on final train data\n",
        "y_trainsm.value_counts(normalize=True)"
      ],
      "metadata": {
        "colab": {
          "base_uri": "https://localhost:8080/"
        },
        "id": "oCeYtozmFf-m",
        "outputId": "6188c5d3-1045-4909-9465-d06cd5d4feeb"
      },
      "execution_count": 15,
      "outputs": [
        {
          "output_type": "execute_result",
          "data": {
            "text/plain": [
              "y\n",
              "0   0.50\n",
              "1   0.50\n",
              "dtype: float64"
            ]
          },
          "metadata": {},
          "execution_count": 15
        }
      ]
    },
    {
      "cell_type": "markdown",
      "source": [
        "# Algorithm"
      ],
      "metadata": {
        "id": "x_aGz8vmFv7w"
      }
    },
    {
      "cell_type": "code",
      "source": [
        "from sklearn.metrics import roc_auc_score ,mean_squared_error,accuracy_score,classification_report,roc_curve,confusion_matrix,f1_score\n",
        "\n",
        "# Function to print the performance of algo\n",
        "def algo_stats(model, X_train, y_train, X_test, y_test):\n",
        "\n",
        "  print(\"Model Analysis :\", model)\n",
        "  y_pred = model.predict (X_test)\n",
        "\n",
        "  model_f1_score = f1_score(y_test, y_pred)\n",
        "  print(\"F1 Score: \", model_f1_score)\n",
        "\n",
        "  train_accuracy = model.score(X_train,y_train)\n",
        "  print (\"Train accuracy: \", train_accuracy)\n",
        "\n",
        "  test_accuracy = model.score(X_test, y_test)\n",
        "  print (\"Test accuracy: \", test_accuracy)\n",
        "\n",
        "  auc = roc_auc_score(y_test, y_pred)\n",
        "  print('ROC_AUC_SCORE is', auc)\n",
        "\n",
        "  print('Classification Report:')\n",
        "  print(classification_report(y_test,y_pred))\n",
        "\n",
        "  cm_labels = np.unique(y)\n",
        "  cm_array = confusion_matrix(y_test, y_pred)\n",
        "  cm_df = pd.DataFrame(cm_array, index=cm_labels, columns=cm_labels)  \n",
        "  plt.figure(figsize = (8,5))\n",
        "\n",
        "  # colormaps : cmap=\"YlGnBu\" , cmap=\"Greens\", cmap=\"Blues\",  cmap=\"Reds\"\n",
        "  sns.heatmap(cm_df, annot=True, cmap=\"Greens\", fmt='d').plot()\n",
        "  plt.show()\n",
        "\n",
        "  false_positive_rate, true_positive_rate, thresholds = roc_curve(y_test, y_pred)\n",
        "  print('false_positive_rate: ', false_positive_rate)\n",
        "  print('true_positive_rate: ', true_positive_rate)\n",
        "  print('thresholds: ', thresholds)\n",
        "\n",
        "  plt.plot(false_positive_rate, true_positive_rate)\n",
        "  plt.xlabel('FPR')\n",
        "  plt.ylabel('TPR')\n",
        "  plt.title('ROC curve')\n",
        "  plt.show()\n",
        "  print('===='*20)"
      ],
      "metadata": {
        "id": "82xfRTuIFq4_"
      },
      "execution_count": 26,
      "outputs": []
    },
    {
      "cell_type": "markdown",
      "source": [
        "# Basic Random Forest "
      ],
      "metadata": {
        "id": "qrpfChYROBLl"
      }
    },
    {
      "cell_type": "code",
      "source": [
        "%%time\n",
        "from sklearn.ensemble import RandomForestClassifier\n",
        "\n",
        "algo = RandomForestClassifier()\n",
        "\n",
        "# Fit\n",
        "model = algo.fit(X_trainsm, np.ravel(y_trainsm))\n",
        "print (model)"
      ],
      "metadata": {
        "colab": {
          "base_uri": "https://localhost:8080/"
        },
        "id": "-8deH-HjOEdK",
        "outputId": "185510d5-d189-433a-e884-8d1f3a21c877"
      },
      "execution_count": 24,
      "outputs": [
        {
          "output_type": "stream",
          "name": "stdout",
          "text": [
            "RandomForestClassifier()\n",
            "CPU times: user 9.22 s, sys: 55.5 ms, total: 9.28 s\n",
            "Wall time: 9.25 s\n"
          ]
        }
      ]
    },
    {
      "cell_type": "code",
      "source": [
        "algo_stats(model, X_trainsm, y_trainsm, X_test, y_test)"
      ],
      "metadata": {
        "colab": {
          "base_uri": "https://localhost:8080/",
          "height": 928
        },
        "id": "v5Xvz3vPOInJ",
        "outputId": "1e13fd53-28f9-4ae7-cf54-28b5745a53b1"
      },
      "execution_count": 27,
      "outputs": [
        {
          "output_type": "stream",
          "name": "stdout",
          "text": [
            "Model Analysis : RandomForestClassifier()\n",
            "F1 Score:  0.5961300946891726\n",
            "Train accuracy:  1.0\n",
            "Test accuracy:  0.8915183014486343\n",
            "ROC_AUC_SCORE is 0.7931990430207275\n",
            "Classification Report:\n",
            "              precision    recall  f1-score   support\n",
            "\n",
            "           0       0.95      0.92      0.94      7952\n",
            "           1       0.54      0.66      0.60      1091\n",
            "\n",
            "    accuracy                           0.89      9043\n",
            "   macro avg       0.75      0.79      0.77      9043\n",
            "weighted avg       0.90      0.89      0.90      9043\n",
            "\n"
          ]
        },
        {
          "output_type": "display_data",
          "data": {
            "text/plain": [
              "<Figure size 576x360 with 2 Axes>"
            ],
            "image/png": "[encoded data removed]"
          },
          "metadata": {
            "needs_background": "light"
          }
        },
        {
          "output_type": "stream",
          "name": "stdout",
          "text": [
            "false_positive_rate:  [0.         0.07721328 1.        ]\n",
            "true_positive_rate:  [0.         0.66361137 1.        ]\n",
            "thresholds:  [2 1 0]\n"
          ]
        },
        {
          "output_type": "display_data",
          "data": {
            "text/plain": [
              "<Figure size 432x288 with 1 Axes>"
            ],
            "image/png": "[encoded data removed]"
          },
          "metadata": {
            "needs_background": "light"
          }
        },
        {
          "output_type": "stream",
          "name": "stdout",
          "text": [
            "================================================================================\n"
          ]
        }
      ]
    },
    {
      "cell_type": "markdown",
      "source": [
        "# Hyper Paramater Tuning"
      ],
      "metadata": {
        "id": "maYCfNDuQ4DD"
      }
    },
    {
      "cell_type": "code",
      "source": [
        "%%time \n",
        "\n",
        "## Bulid a param grid for RandomForest\n",
        "from sklearn.ensemble import RandomForestClassifier\n",
        "\n",
        "from sklearn.model_selection import GridSearchCV\n",
        "from sklearn.model_selection import ParameterGrid\n",
        "\n",
        "algo = RandomForestClassifier()\n",
        "algo.get_params()\n",
        "\n",
        "# build a param-grid\n",
        "param_grid =  {'n_estimators' : (50, 100, 150), \n",
        "               'max_depth' : (5,10,15,20,25),\n",
        "               'max_features': ['auto', 'sqrt', 'log2'],\n",
        "               'criterion' :['gini', 'entropy']\n",
        "               }\n",
        "\n",
        "grid_search = GridSearchCV(estimator=algo, \n",
        "                             param_grid=param_grid, \n",
        "                             cv = 5, \n",
        "                             scoring='roc_auc', # use roc_auc instead of \"accuracy\"\n",
        "                             return_train_score=True,\n",
        "                             n_jobs = -1)\n",
        "\n",
        "grid_search_results = grid_search.fit (X_trainsm,np.ravel(y_trainsm))\n",
        "\n",
        "best_model = grid_search_results.best_estimator_\n",
        "print (\"Best model : \", best_model)\n",
        "print (\"Best hyper params : \", grid_search_results.best_params_)\n",
        "print (\"Best score : \", grid_search_results.best_score_)"
      ],
      "metadata": {
        "colab": {
          "base_uri": "https://localhost:8080/"
        },
        "id": "1VKS7_y6Pn0T",
        "outputId": "dad3ba65-f66d-4392-c381-f0c4e39cdf12"
      },
      "execution_count": 28,
      "outputs": [
        {
          "output_type": "stream",
          "name": "stdout",
          "text": [
            "Best model :  RandomForestClassifier(max_depth=25, max_features='sqrt', n_estimators=150)\n",
            "Best hyper params :  {'criterion': 'gini', 'max_depth': 25, 'max_features': 'sqrt', 'n_estimators': 150}\n",
            "Best score :  0.9898641731784636\n",
            "CPU times: user 29.3 s, sys: 2.07 s, total: 31.4 s\n",
            "Wall time: 42min 39s\n"
          ]
        }
      ]
    },
    {
      "cell_type": "code",
      "source": [
        "grid_search_results"
      ],
      "metadata": {
        "colab": {
          "base_uri": "https://localhost:8080/"
        },
        "id": "pltCGCRzW0rl",
        "outputId": "3b3bc7b2-b0c0-4d90-8917-f43e5a87dc86"
      },
      "execution_count": 29,
      "outputs": [
        {
          "output_type": "execute_result",
          "data": {
            "text/plain": [
              "GridSearchCV(cv=5, estimator=RandomForestClassifier(), n_jobs=-1,\n",
              "             param_grid={'criterion': ['gini', 'entropy'],\n",
              "                         'max_depth': (5, 10, 15, 20, 25),\n",
              "                         'max_features': ['auto', 'sqrt', 'log2'],\n",
              "                         'n_estimators': (50, 100, 150)},\n",
              "             return_train_score=True, scoring='roc_auc')"
            ]
          },
          "metadata": {},
          "execution_count": 29
        }
      ]
    },
    {
      "cell_type": "code",
      "source": [
        "algo_stats(best_model, X_trainsm, y_trainsm, X_test, y_test)"
      ],
      "metadata": {
        "colab": {
          "base_uri": "https://localhost:8080/",
          "height": 928
        },
        "id": "6zlJvUoMd8Og",
        "outputId": "f539fca7-5831-4d48-d539-99c12328eb42"
      },
      "execution_count": 30,
      "outputs": [
        {
          "output_type": "stream",
          "name": "stdout",
          "text": [
            "Model Analysis : RandomForestClassifier(max_depth=25, max_features='sqrt', n_estimators=150)\n",
            "F1 Score:  0.6001577287066245\n",
            "Train accuracy:  0.9972161401313732\n",
            "Test accuracy:  0.8878690699988941\n",
            "ROC_AUC_SCORE is 0.8057545548266686\n",
            "Classification Report:\n",
            "              precision    recall  f1-score   support\n",
            "\n",
            "           0       0.96      0.91      0.93      7952\n",
            "           1       0.53      0.70      0.60      1091\n",
            "\n",
            "    accuracy                           0.89      9043\n",
            "   macro avg       0.74      0.81      0.77      9043\n",
            "weighted avg       0.90      0.89      0.89      9043\n",
            "\n"
          ]
        },
        {
          "output_type": "display_data",
          "data": {
            "text/plain": [
              "<Figure size 576x360 with 2 Axes>"
            ],
            "image/png": "[encoded data removed]"
          },
          "metadata": {
            "needs_background": "light"
          }
        },
        {
          "output_type": "stream",
          "name": "stdout",
          "text": [
            "false_positive_rate:  [0.        0.0860161 1.       ]\n",
            "true_positive_rate:  [0.         0.69752521 1.        ]\n",
            "thresholds:  [2 1 0]\n"
          ]
        },
        {
          "output_type": "display_data",
          "data": {
            "text/plain": [
              "<Figure size 432x288 with 1 Axes>"
            ],
            "image/png": "[encoded data removed]"
          },
          "metadata": {
            "needs_background": "light"
          }
        },
        {
          "output_type": "stream",
          "name": "stdout",
          "text": [
            "================================================================================\n"
          ]
        }
      ]
    },
    {
      "cell_type": "markdown",
      "source": [
        "# Multple Algo Performance"
      ],
      "metadata": {
        "id": "BG-50mvXVMNh"
      }
    },
    {
      "cell_type": "code",
      "source": [
        "from sklearn.linear_model import LogisticRegression\n",
        "from sklearn.tree import DecisionTreeClassifier\n",
        "from sklearn.neighbors import KNeighborsClassifier\n",
        "from sklearn.svm import SVC\n",
        "from sklearn.naive_bayes import GaussianNB\n",
        "from sklearn.ensemble import RandomForestClassifier\n",
        "from sklearn.ensemble import GradientBoostingClassifier\n",
        "import numpy as np\n",
        "from sklearn.model_selection import KFold\n",
        "from sklearn.model_selection import cross_val_score\n",
        "from sklearn.model_selection import cross_validate\n",
        "from pprint import pprint\n",
        "\n",
        "## Choose models, we want to compare\n",
        "## TODO: Here are we are choosing 'default' models\n",
        "## What if we choose the 'best of' for each model using hyper tuning\n",
        "\n",
        "models = []\n",
        "models.append(('LR', LogisticRegression(max_iter=500)))\n",
        "models.append(('KNN', KNeighborsClassifier()))\n",
        "models.append(('CART', DecisionTreeClassifier()))\n",
        "models.append(('RF', RandomForestClassifier()))\n",
        "models.append(('GB', GradientBoostingClassifier()))\n",
        "models.append(('SVM', SVC()))\n",
        "models.append(('NB', GaussianNB()))\n",
        "\n",
        "accuracy_results = []\n",
        "f1_results = []\n",
        "roc_auc_results = []\n",
        "names = []\n",
        "\n",
        "## for classification tasks\n",
        "scoring_metrics = ['accuracy', 'precision', 'recall', 'f1', 'roc_auc']\n",
        "## for regression tasks\n",
        "#scoring_metrics = ['r2', 'rmse']\n",
        "y2 = np.ravel(y_trainsm)\n",
        "x2 = X_trainsm\n",
        "for name, model in models:\n",
        "    print ('\\n========= ', name , ' =========')\n",
        "    kfold = KFold(n_splits=10)\n",
        "    \n",
        "    ## cv can be int or kfold\n",
        "    cv_results = cross_validate(model, x2, y2, cv=kfold, scoring=scoring_metrics, n_jobs=-1)\n",
        "    pprint (cv_results)\n",
        "\n",
        "    # test accuracy\n",
        "    this_result = cv_results['test_accuracy']\n",
        "    accuracy_results.append(this_result)\n",
        "    names.append(name)\n",
        "    print(\"\\n{}: accuracy : avg={:,.2f}, median={:,.2f},  std={:,.2f},  cv_results={}\".format (\n",
        "        name, np.mean(this_result), np.median(this_result), np.std(this_result), this_result))\n",
        "    \n",
        "\n",
        "    # f1 accuracy\n",
        "    this_result = cv_results['test_f1']\n",
        "    f1_results.append(this_result)\n",
        "    names.append(name)\n",
        "    print(\"\\n{}: F1 : avg={:,.2f}, median={:,.2f},  std={:,.2f},  cv_results={}\".format (\n",
        "        name, np.mean(this_result), np.median(this_result), np.std(this_result), this_result))\n",
        "\n",
        "    # roc_auc accuracy\n",
        "    this_result = cv_results['test_roc_auc']\n",
        "    roc_auc_results.append(this_result)\n",
        "    names.append(name)\n",
        "    print(\"\\n{}: ROC AUC : avg={:,.2f}, median={:,.2f},  std={:,.2f},  cv_results={}\".format (\n",
        "        name, np.mean(this_result), np.median(this_result), np.std(this_result), this_result))\n"
      ],
      "metadata": {
        "id": "uMtCl5lwTik0"
      },
      "execution_count": null,
      "outputs": []
    },
    {
      "cell_type": "code",
      "source": [
        "# Visualize F1 Results \n",
        "import matplotlib.pyplot as plt\n",
        "import seaborn as sns\n",
        "\n",
        "plt.figure(figsize = (10,6))\n",
        "\n",
        "# boxplot algorithm comparison\n",
        "ax = sns.boxplot(data=f1_results) # \n",
        "ax.set_title('Algorithm Comparison')\n",
        "ax.set_xticklabels(names)\n",
        "ax.set_ylabel('accuracy')\n",
        "plt.show()"
      ],
      "metadata": {
        "id": "v3kInIHRWhb6"
      },
      "execution_count": null,
      "outputs": []
    },
    {
      "cell_type": "markdown",
      "source": [
        "# Ensemble / Voting Classifier"
      ],
      "metadata": {
        "id": "8A6sN-h6W-Mx"
      }
    },
    {
      "cell_type": "code",
      "source": [
        "from sklearn.metrics import confusion_matrix\n",
        "from sklearn.ensemble import VotingClassifier\n",
        "\n",
        "# models to use for ensembling and with best parameters   \n",
        "model1 = RandomForestClassifier()\n",
        "model3 = GradientBoostingClassifier()\n",
        "model2 = LogisticRegression()\n",
        "\n",
        "# fitting the model\n",
        "model = VotingClassifier(estimators=[('rf', model1), ('lr', model2), ('xgb',model3)], voting='soft')\n",
        "model.fit(X_trainsm,y_trainsm)\n",
        "\n",
        "# predicting balues and getting the metrics\n",
        "y_pred = model.predict(y_test)"
      ],
      "metadata": {
        "id": "EzOTqJdiYqjN"
      },
      "execution_count": null,
      "outputs": []
    }
  ]
}